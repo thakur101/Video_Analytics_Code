{
 "cells": [
  {
   "cell_type": "code",
   "execution_count": 1,
   "metadata": {},
   "outputs": [],
   "source": [
    "import numpy as np\n",
    "import pandas as pd\n",
    "from matplotlib import pyplot as plt\n",
    "import seaborn as sns\n",
    "from sklearn import metrics\n",
    "from sklearn import preprocessing\n",
    "from sklearn.metrics import classification_report\n",
    "from sklearn.metrics import confusion_matrix\n",
    "from sklearn.model_selection import train_test_split\n",
    "from sklearn.linear_model import LogisticRegression\n",
    "from sklearn.metrics import roc_auc_score"
   ]
  },
  {
   "cell_type": "code",
   "execution_count": 2,
   "metadata": {},
   "outputs": [],
   "source": [
    "df = pd.read_csv('iris.csv')\n",
    "df1 = df.copy(deep=True)\n",
    "df2 = df.copy(deep=True)\n",
    "df3 = df.copy(deep=True)"
   ]
  },
  {
   "cell_type": "code",
   "execution_count": 3,
   "metadata": {},
   "outputs": [],
   "source": [
    "y1 = df1.iloc[:,-1]\n",
    "s1 = pd.Series(y1)"
   ]
  },
  {
   "cell_type": "code",
   "execution_count": 4,
   "metadata": {},
   "outputs": [
    {
     "name": "stdout",
     "output_type": "stream",
     "text": [
      "     5.1  3.5  1.4  0.2  y11\n",
      "0    4.9  3.0  1.4  0.2    1\n",
      "1    4.7  3.2  1.3  0.2    1\n",
      "2    4.6  3.1  1.5  0.2    1\n",
      "3    5.0  3.6  1.4  0.2    1\n",
      "4    5.4  3.9  1.7  0.4    1\n",
      "5    4.6  3.4  1.4  0.3    1\n",
      "6    5.0  3.4  1.5  0.2    1\n",
      "7    4.4  2.9  1.4  0.2    1\n",
      "8    4.9  3.1  1.5  0.1    1\n",
      "9    5.4  3.7  1.5  0.2    1\n",
      "10   4.8  3.4  1.6  0.2    1\n",
      "11   4.8  3.0  1.4  0.1    1\n",
      "12   4.3  3.0  1.1  0.1    1\n",
      "13   5.8  4.0  1.2  0.2    1\n",
      "14   5.7  4.4  1.5  0.4    1\n",
      "15   5.4  3.9  1.3  0.4    1\n",
      "16   5.1  3.5  1.4  0.3    1\n",
      "17   5.7  3.8  1.7  0.3    1\n",
      "18   5.1  3.8  1.5  0.3    1\n",
      "19   5.4  3.4  1.7  0.2    1\n",
      "20   5.1  3.7  1.5  0.4    1\n",
      "21   4.6  3.6  1.0  0.2    1\n",
      "22   5.1  3.3  1.7  0.5    1\n",
      "23   4.8  3.4  1.9  0.2    1\n",
      "24   5.0  3.0  1.6  0.2    1\n",
      "25   5.0  3.4  1.6  0.4    1\n",
      "26   5.2  3.5  1.5  0.2    1\n",
      "27   5.2  3.4  1.4  0.2    1\n",
      "28   4.7  3.2  1.6  0.2    1\n",
      "29   4.8  3.1  1.6  0.2    1\n",
      "..   ...  ...  ...  ...  ...\n",
      "119  6.9  3.2  5.7  2.3    0\n",
      "120  5.6  2.8  4.9  2.0    0\n",
      "121  7.7  2.8  6.7  2.0    0\n",
      "122  6.3  2.7  4.9  1.8    0\n",
      "123  6.7  3.3  5.7  2.1    0\n",
      "124  7.2  3.2  6.0  1.8    0\n",
      "125  6.2  2.8  4.8  1.8    0\n",
      "126  6.1  3.0  4.9  1.8    0\n",
      "127  6.4  2.8  5.6  2.1    0\n",
      "128  7.2  3.0  5.8  1.6    0\n",
      "129  7.4  2.8  6.1  1.9    0\n",
      "130  7.9  3.8  6.4  2.0    0\n",
      "131  6.4  2.8  5.6  2.2    0\n",
      "132  6.3  2.8  5.1  1.5    0\n",
      "133  6.1  2.6  5.6  1.4    0\n",
      "134  7.7  3.0  6.1  2.3    0\n",
      "135  6.3  3.4  5.6  2.4    0\n",
      "136  6.4  3.1  5.5  1.8    0\n",
      "137  6.0  3.0  4.8  1.8    0\n",
      "138  6.9  3.1  5.4  2.1    0\n",
      "139  6.7  3.1  5.6  2.4    0\n",
      "140  6.9  3.1  5.1  2.3    0\n",
      "141  5.8  2.7  5.1  1.9    0\n",
      "142  6.8  3.2  5.9  2.3    0\n",
      "143  6.7  3.3  5.7  2.5    0\n",
      "144  6.7  3.0  5.2  2.3    0\n",
      "145  6.3  2.5  5.0  1.9    0\n",
      "146  6.5  3.0  5.2  2.0    0\n",
      "147  6.2  3.4  5.4  2.3    0\n",
      "148  5.9  3.0  5.1  1.8    0\n",
      "\n",
      "[149 rows x 5 columns]\n"
     ]
    }
   ],
   "source": [
    "y11 = s1.map({'Iris-setosa':1, 'Iris-versicolor':0,'Iris-virginica':0})\n",
    "df1['y11'] = y11\n",
    "#print(df1)\n",
    "df1 = df1.drop(df1.columns[-2],axis=1)\n",
    "print(df1)"
   ]
  },
  {
   "cell_type": "code",
   "execution_count": 10,
   "metadata": {},
   "outputs": [
    {
     "name": "stdout",
     "output_type": "stream",
     "text": [
      "    5.1  3.5  1.4  0.2  y11\n",
      "0   4.9  3.0  1.4  0.2    1\n",
      "1   4.7  3.2  1.3  0.2    1\n",
      "2   4.6  3.1  1.5  0.2    1\n",
      "3   5.0  3.6  1.4  0.2    1\n",
      "4   5.4  3.9  1.7  0.4    1\n",
      "5   4.6  3.4  1.4  0.3    1\n",
      "6   5.0  3.4  1.5  0.2    1\n",
      "7   4.4  2.9  1.4  0.2    1\n",
      "8   4.9  3.1  1.5  0.1    1\n",
      "9   5.4  3.7  1.5  0.2    1\n",
      "10  4.8  3.4  1.6  0.2    1\n",
      "11  4.8  3.0  1.4  0.1    1\n",
      "12  4.3  3.0  1.1  0.1    1\n",
      "13  5.8  4.0  1.2  0.2    1\n",
      "14  5.7  4.4  1.5  0.4    1\n",
      "15  5.4  3.9  1.3  0.4    1\n",
      "16  5.1  3.5  1.4  0.3    1\n",
      "17  5.7  3.8  1.7  0.3    1\n",
      "18  5.1  3.8  1.5  0.3    1\n",
      "19  5.4  3.4  1.7  0.2    1\n",
      "20  5.1  3.7  1.5  0.4    1\n",
      "21  4.6  3.6  1.0  0.2    1\n",
      "22  5.1  3.3  1.7  0.5    1\n",
      "23  4.8  3.4  1.9  0.2    1\n",
      "24  5.0  3.0  1.6  0.2    1\n",
      "25  5.0  3.4  1.6  0.4    1\n",
      "26  5.2  3.5  1.5  0.2    1\n",
      "27  5.2  3.4  1.4  0.2    1\n",
      "28  4.7  3.2  1.6  0.2    1\n",
      "29  4.8  3.1  1.6  0.2    1\n",
      "30  5.4  3.4  1.5  0.4    1\n",
      "31  5.2  4.1  1.5  0.1    1\n",
      "32  5.5  4.2  1.4  0.2    1\n",
      "33  4.9  3.1  1.5  0.1    1\n",
      "34  5.0  3.2  1.2  0.2    1\n",
      "35  5.5  3.5  1.3  0.2    1\n",
      "36  4.9  3.1  1.5  0.1    1\n",
      "37  4.4  3.0  1.3  0.2    1\n",
      "38  5.1  3.4  1.5  0.2    1\n",
      "39  5.0  3.5  1.3  0.3    1\n",
      "40  4.5  2.3  1.3  0.3    1\n",
      "41  4.4  3.2  1.3  0.2    1\n",
      "42  5.0  3.5  1.6  0.6    1\n",
      "43  5.1  3.8  1.9  0.4    1\n",
      "44  4.8  3.0  1.4  0.3    1\n",
      "45  5.1  3.8  1.6  0.2    1\n",
      "46  4.6  3.2  1.4  0.2    1\n",
      "47  5.3  3.7  1.5  0.2    1\n",
      "48  5.0  3.3  1.4  0.2    1\n"
     ]
    },
    {
     "data": {
      "image/png": "[encoded data removed]",
      "text/plain": [
       "<Figure size 432x288 with 1 Axes>"
      ]
     },
     "metadata": {
      "needs_background": "light"
     },
     "output_type": "display_data"
    }
   ],
   "source": [
    "X11 = df1.iloc[:, :-1]\n",
    "i_s = df1.loc[y11 == 1]\n",
    "print(i_s)\n",
    "n_i_s = df1.loc[y11 == 0]\n",
    "plt.scatter(i_s.iloc[:, 0], i_s.iloc[:, 1], s=10, label='Iris-setosa')\n",
    "plt.scatter(n_i_s.iloc[:, 0], n_i_s.iloc[:, 1], s=10, label='Rest of Species')\n",
    "plt.legend()\n",
    "plt.show()"
   ]
  },
  {
   "cell_type": "code",
   "execution_count": 7,
   "metadata": {},
   "outputs": [
    {
     "data": {
      "image/png": "[encoded data removed]",
      "text/plain": [
       "<Figure size 432x288 with 1 Axes>"
      ]
     },
     "metadata": {
      "needs_background": "light"
     },
     "output_type": "display_data"
    }
   ],
   "source": [
    "sns.countplot(x='y11',data=df1,palette='hls')\n",
    "plt.show()"
   ]
  },
  {
   "cell_type": "code",
   "execution_count": 8,
   "metadata": {},
   "outputs": [
    {
     "name": "stderr",
     "output_type": "stream",
     "text": [
      "/home/abhishek/.local/lib/python2.7/site-packages/sklearn/linear_model/logistic.py:433: FutureWarning: Default solver will be changed to 'lbfgs' in 0.22. Specify a solver to silence this warning.\n",
      "  FutureWarning)\n"
     ]
    },
    {
     "data": {
      "text/plain": [
       "LogisticRegression(C=1.0, class_weight=None, dual=False, fit_intercept=True,\n",
       "          intercept_scaling=1, max_iter=100, multi_class='warn',\n",
       "          n_jobs=None, penalty='l2', random_state=None, solver='warn',\n",
       "          tol=0.0001, verbose=0, warm_start=False)"
      ]
     },
     "execution_count": 8,
     "metadata": {},
     "output_type": "execute_result"
    }
   ],
   "source": [
    "X11_train, X11_test, y11_train, y11_test = train_test_split(X11, y11, test_size=0.3, random_state=0)\n",
    "logreg = LogisticRegression()\n",
    "logreg.fit(X11_train, y11_train)"
   ]
  },
  {
   "cell_type": "code",
   "execution_count": 9,
   "metadata": {},
   "outputs": [],
   "source": [
    "y11_pred = logreg.predict(X11_test)"
   ]
  },
  {
   "cell_type": "code",
   "execution_count": 10,
   "metadata": {},
   "outputs": [
    {
     "name": "stdout",
     "output_type": "stream",
     "text": [
      "[[29  0]\n",
      " [ 0 16]]\n"
     ]
    }
   ],
   "source": [
    "confusion_matrix = confusion_matrix(y11_test, y11_pred)\n",
    "print(confusion_matrix)"
   ]
  },
  {
   "cell_type": "code",
   "execution_count": 11,
   "metadata": {},
   "outputs": [
    {
     "data": {
      "text/plain": [
       "Text(0.5,257.44,'Predicted label')"
      ]
     },
     "execution_count": 11,
     "metadata": {},
     "output_type": "execute_result"
    },
    {
     "data": {
      "image/png": "[encoded data removed]",
      "text/plain": [
       "<Figure size 432x288 with 2 Axes>"
      ]
     },
     "metadata": {
      "needs_background": "light"
     },
     "output_type": "display_data"
    }
   ],
   "source": [
    "class_names=[0,1] # name  of classes\n",
    "fig, ax = plt.subplots()\n",
    "tick_marks = np.arange(len(class_names))\n",
    "plt.xticks(tick_marks, class_names)\n",
    "plt.yticks(tick_marks, class_names)\n",
    "\n",
    "# create heatmap\n",
    "sns.heatmap(pd.DataFrame(confusion_matrix), annot=True, cmap=\"YlGnBu\" ,fmt='g')\n",
    "ax.xaxis.set_label_position(\"top\")\n",
    "plt.tight_layout()  \n",
    "plt.title('Confusion matrix', y=1.1)\n",
    "plt.ylabel('Actual label')\n",
    "plt.xlabel('Predicted label')"
   ]
  },
  {
   "cell_type": "code",
   "execution_count": 12,
   "metadata": {},
   "outputs": [
    {
     "name": "stdout",
     "output_type": "stream",
     "text": [
      "              precision    recall  f1-score   support\n",
      "\n",
      "           0       1.00      1.00      1.00        29\n",
      "           1       1.00      1.00      1.00        16\n",
      "\n",
      "   micro avg       1.00      1.00      1.00        45\n",
      "   macro avg       1.00      1.00      1.00        45\n",
      "weighted avg       1.00      1.00      1.00        45\n",
      "\n"
     ]
    }
   ],
   "source": [
    "print(classification_report(y11_test, y11_pred))"
   ]
  },
  {
   "cell_type": "code",
   "execution_count": 17,
   "metadata": {},
   "outputs": [
    {
     "name": "stdout",
     "output_type": "stream",
     "text": [
      "[0. 1. 1.]\n"
     ]
    }
   ],
   "source": [
    "y11_true = np.array(y11_test)\n",
    "y11_scores = np.array(y11_pred)\n",
    "#roc_auc_score(y11_true, y11_scores)\n",
    "fpr, tpr, threshold = metrics.roc_curve(y11_test, y11_pred)\n",
    "print(tpr)\n",
    "roc_auc = metrics.auc(fpr, tpr)"
   ]
  },
  {
   "cell_type": "code",
   "execution_count": 15,
   "metadata": {},
   "outputs": [
    {
     "data": {
      "image/png": "[encoded data removed]",
      "text/plain": [
       "<Figure size 432x288 with 1 Axes>"
      ]
     },
     "metadata": {
      "needs_background": "light"
     },
     "output_type": "display_data"
    }
   ],
   "source": [
    "plt.title('Receiver Operating Characteristic')\n",
    "plt.plot(fpr, tpr, 'b', label = 'AUC = %0.2f' % roc_auc)\n",
    "plt.legend(loc = 'lower right')\n",
    "plt.plot([0, 1], [0, 1],'r--')\n",
    "plt.xlim([0, 1])\n",
    "plt.ylim([0, 1])\n",
    "plt.ylabel('True Positive Rate')\n",
    "plt.xlabel('False Positive Rate')\n",
    "plt.show()"
   ]
  },
  {
   "cell_type": "code",
   "execution_count": 19,
   "metadata": {},
   "outputs": [
    {
     "name": "stdout",
     "output_type": "stream",
     "text": [
      "('Accuracy:', 1.0)\n",
      "('Precision:', 1.0)\n",
      "('Recall:', 1.0)\n"
     ]
    }
   ],
   "source": [
    "print(\"Accuracy:\",metrics.accuracy_score(y11_test, y11_pred))\n",
    "print(\"Precision:\",metrics.precision_score(y11_test, y11_pred))\n",
    "print(\"Recall:\",metrics.recall_score(y11_test, y11_pred))"
   ]
  },
  {
   "cell_type": "code",
   "execution_count": 3,
   "metadata": {},
   "outputs": [],
   "source": [
    "#Doing second class of Multiclass Classifier\n",
    "y2 = df2.iloc[:,-1]\n",
    "s2 = pd.Series(y2)"
   ]
  },
  {
   "cell_type": "code",
   "execution_count": 39,
   "metadata": {},
   "outputs": [],
   "source": [
    "y22 = s2.map({'Iris-setosa':0, 'Iris-versicolor':1,'Iris-virginica':0})\n",
    "df2['y22'] = y22\n",
    "#print(df1)\n",
    "df2 = df2.drop(df2.columns[-2],axis=1)\n",
    "#print(df2)"
   ]
  },
  {
   "cell_type": "code",
   "execution_count": 5,
   "metadata": {},
   "outputs": [
    {
     "data": {
      "image/png": "[encoded data removed]",
      "text/plain": [
       "<Figure size 432x288 with 1 Axes>"
      ]
     },
     "metadata": {
      "needs_background": "light"
     },
     "output_type": "display_data"
    }
   ],
   "source": [
    "X22 = df2.iloc[:, :-1]\n",
    "i_s = df2.loc[y22 == 1]\n",
    "n_i_s = df2.loc[y22 == 0]\n",
    "plt.scatter(i_s.iloc[:, 0], i_s.iloc[:, 1], s=10, label='Iris-versicolor')\n",
    "plt.scatter(n_i_s.iloc[:, 0], n_i_s.iloc[:, 1], s=10, label='Rest of Species')\n",
    "plt.legend()\n",
    "plt.show()"
   ]
  },
  {
   "cell_type": "code",
   "execution_count": 21,
   "metadata": {},
   "outputs": [
    {
     "data": {
      "image/png": "[encoded data removed]",
      "text/plain": [
       "<Figure size 432x288 with 1 Axes>"
      ]
     },
     "metadata": {
      "needs_background": "light"
     },
     "output_type": "display_data"
    }
   ],
   "source": [
    "sns.countplot(x='y22',data=df2,palette='hls')\n",
    "plt.show()"
   ]
  },
  {
   "cell_type": "code",
   "execution_count": 18,
   "metadata": {},
   "outputs": [
    {
     "data": {
      "text/plain": [
       "LogisticRegression(C=1.0, class_weight=None, dual=False, fit_intercept=True,\n",
       "          intercept_scaling=1, max_iter=100, multi_class='warn',\n",
       "          n_jobs=None, penalty='l2', random_state=None, solver='warn',\n",
       "          tol=0.0001, verbose=0, warm_start=False)"
      ]
     },
     "execution_count": 18,
     "metadata": {},
     "output_type": "execute_result"
    }
   ],
   "source": [
    "X22_train, X22_test, y22_train, y22_test = train_test_split(X22, y22, test_size=0.3, random_state=0)\n",
    "logreg = LogisticRegression()\n",
    "logreg.fit(X22_train, y22_train)"
   ]
  },
  {
   "cell_type": "code",
   "execution_count": 22,
   "metadata": {},
   "outputs": [],
   "source": [
    "y22_pred = logreg.predict(X22_test)"
   ]
  },
  {
   "cell_type": "code",
   "execution_count": 28,
   "metadata": {},
   "outputs": [
    {
     "name": "stdout",
     "output_type": "stream",
     "text": [
      "[[26  3]\n",
      " [13  3]]\n"
     ]
    }
   ],
   "source": [
    "confusion_matrix_2 = confusion_matrix(y22_test, y22_pred)\n",
    "print(confusion_matrix_2)"
   ]
  },
  {
   "cell_type": "code",
   "execution_count": 29,
   "metadata": {},
   "outputs": [
    {
     "data": {
      "text/plain": [
       "Text(0.5,257.44,'Predicted label')"
      ]
     },
     "execution_count": 29,
     "metadata": {},
     "output_type": "execute_result"
    },
    {
     "data": {
      "image/png": "[encoded data removed]",
      "text/plain": [
       "<Figure size 432x288 with 2 Axes>"
      ]
     },
     "metadata": {
      "needs_background": "light"
     },
     "output_type": "display_data"
    }
   ],
   "source": [
    "class_names=[0,1] # name  of classes\n",
    "fig, ax = plt.subplots()\n",
    "tick_marks = np.arange(len(class_names))\n",
    "plt.xticks(tick_marks, class_names)\n",
    "plt.yticks(tick_marks, class_names)\n",
    "\n",
    "# create heatmap\n",
    "sns.heatmap(pd.DataFrame(confusion_matrix_2), annot=True, cmap=\"YlGnBu\" ,fmt='g')\n",
    "ax.xaxis.set_label_position(\"top\")\n",
    "plt.tight_layout()  \n",
    "plt.title('Confusion matrix_2', y=1.1)\n",
    "plt.ylabel('Actual label')\n",
    "plt.xlabel('Predicted label')"
   ]
  },
  {
   "cell_type": "code",
   "execution_count": 30,
   "metadata": {},
   "outputs": [
    {
     "name": "stdout",
     "output_type": "stream",
     "text": [
      "              precision    recall  f1-score   support\n",
      "\n",
      "           0       0.67      0.90      0.76        29\n",
      "           1       0.50      0.19      0.27        16\n",
      "\n",
      "   micro avg       0.64      0.64      0.64        45\n",
      "   macro avg       0.58      0.54      0.52        45\n",
      "weighted avg       0.61      0.64      0.59        45\n",
      "\n"
     ]
    }
   ],
   "source": [
    "print(classification_report(y22_test, y22_pred))"
   ]
  },
  {
   "cell_type": "code",
   "execution_count": 33,
   "metadata": {},
   "outputs": [
    {
     "name": "stdout",
     "output_type": "stream",
     "text": [
      "[0.     0.1875 1.    ]\n",
      "0.5420258620689655\n"
     ]
    }
   ],
   "source": [
    "y22_true = np.array(y22_test)\n",
    "y22_scores = np.array(y22_pred)\n",
    "#roc_auc_score(y11_true, y11_scores)\n",
    "fpr, tpr, threshold = metrics.roc_curve(y22_test, y22_pred)\n",
    "print(tpr)\n",
    "roc_auc = metrics.auc(fpr, tpr)\n",
    "print(roc_auc) #Computes the area under the curve."
   ]
  },
  {
   "cell_type": "code",
   "execution_count": 34,
   "metadata": {},
   "outputs": [
    {
     "data": {
      "image/png": "[encoded data removed]",
      "text/plain": [
       "<Figure size 432x288 with 1 Axes>"
      ]
     },
     "metadata": {
      "needs_background": "light"
     },
     "output_type": "display_data"
    }
   ],
   "source": [
    "plt.title('Receiver Operating Characteristic')\n",
    "plt.plot(fpr, tpr, 'b', label = 'AUC = %0.2f' % roc_auc)\n",
    "plt.legend(loc = 'lower right')\n",
    "plt.plot([0, 1], [0, 1],'r--')\n",
    "plt.xlim([0, 1])\n",
    "plt.ylim([0, 1])\n",
    "plt.ylabel('True Positive Rate')\n",
    "plt.xlabel('False Positive Rate')\n",
    "plt.show()\n",
    "#We evaluate different models through ROC Curve. The more the Blue line is near the top left corner the more accurate is the model."
   ]
  },
  {
   "cell_type": "code",
   "execution_count": 35,
   "metadata": {},
   "outputs": [],
   "source": [
    "#Doing second class of Multiclass Classifier\n",
    "y3 = df3.iloc[:,-1]\n",
    "s3 = pd.Series(y3)"
   ]
  },
  {
   "cell_type": "code",
   "execution_count": 44,
   "metadata": {},
   "outputs": [],
   "source": [
    "y33 = s3.map({'Iris-setosa':0, 'Iris-versicolor':0,'Iris-virginica':1})\n",
    "df3['y33'] = y33\n",
    "#print(df1)\n",
    "df3 = df3.drop(df3.columns[-2],axis=1)\n",
    "#print(df3)"
   ]
  },
  {
   "cell_type": "code",
   "execution_count": 45,
   "metadata": {},
   "outputs": [
    {
     "data": {
      "image/png": "[encoded data removed]",
      "text/plain": [
       "<Figure size 432x288 with 1 Axes>"
      ]
     },
     "metadata": {
      "needs_background": "light"
     },
     "output_type": "display_data"
    }
   ],
   "source": [
    "X33 = df3.iloc[:, :-1]\n",
    "i_s = df3.loc[y33 == 1]\n",
    "n_i_s = df3.loc[y33 == 0]\n",
    "plt.scatter(i_s.iloc[:, 0], i_s.iloc[:, 1], s=10, label='Iris-virginica')\n",
    "plt.scatter(n_i_s.iloc[:, 0], n_i_s.iloc[:, 1], s=10, label='Rest of Species')\n",
    "plt.legend()\n",
    "plt.show()"
   ]
  },
  {
   "cell_type": "code",
   "execution_count": 46,
   "metadata": {},
   "outputs": [
    {
     "data": {
      "image/png": "[encoded data removed]",
      "text/plain": [
       "<Figure size 432x288 with 1 Axes>"
      ]
     },
     "metadata": {
      "needs_background": "light"
     },
     "output_type": "display_data"
    }
   ],
   "source": [
    "sns.countplot(x='y22',data=df2,palette='hls')\n",
    "plt.show()"
   ]
  },
  {
   "cell_type": "code",
   "execution_count": 47,
   "metadata": {},
   "outputs": [
    {
     "data": {
      "text/plain": [
       "LogisticRegression(C=1.0, class_weight=None, dual=False, fit_intercept=True,\n",
       "          intercept_scaling=1, max_iter=100, multi_class='warn',\n",
       "          n_jobs=None, penalty='l2', random_state=None, solver='warn',\n",
       "          tol=0.0001, verbose=0, warm_start=False)"
      ]
     },
     "execution_count": 47,
     "metadata": {},
     "output_type": "execute_result"
    }
   ],
   "source": [
    "X33_train, X33_test, y33_train, y33_test = train_test_split(X33, y33, test_size=0.3, random_state=0)\n",
    "logreg = LogisticRegression()\n",
    "logreg.fit(X33_train, y33_train)"
   ]
  },
  {
   "cell_type": "code",
   "execution_count": 48,
   "metadata": {},
   "outputs": [],
   "source": [
    "y33_pred = logreg.predict(X33_test)"
   ]
  },
  {
   "cell_type": "code",
   "execution_count": 49,
   "metadata": {},
   "outputs": [
    {
     "name": "stdout",
     "output_type": "stream",
     "text": [
      "[[32  0]\n",
      " [11  2]]\n"
     ]
    }
   ],
   "source": [
    "confusion_matrix_3 = confusion_matrix(y33_test, y33_pred)\n",
    "print(confusion_matrix_3)"
   ]
  },
  {
   "cell_type": "code",
   "execution_count": 50,
   "metadata": {},
   "outputs": [
    {
     "data": {
      "text/plain": [
       "Text(0.5,257.44,'Predicted label')"
      ]
     },
     "execution_count": 50,
     "metadata": {},
     "output_type": "execute_result"
    },
    {
     "data": {
      "image/png": "[encoded data removed]",
      "text/plain": [
       "<Figure size 432x288 with 2 Axes>"
      ]
     },
     "metadata": {
      "needs_background": "light"
     },
     "output_type": "display_data"
    }
   ],
   "source": [
    "class_names=[0,1] # name  of classes\n",
    "fig, ax = plt.subplots()\n",
    "tick_marks = np.arange(len(class_names))\n",
    "plt.xticks(tick_marks, class_names)\n",
    "plt.yticks(tick_marks, class_names)\n",
    "\n",
    "# create heatmap\n",
    "sns.heatmap(pd.DataFrame(confusion_matrix_3), annot=True, cmap=\"YlGnBu\" ,fmt='g')\n",
    "ax.xaxis.set_label_position(\"top\")\n",
    "plt.tight_layout()  \n",
    "plt.title('Confusion matrix_3', y=1.1)\n",
    "plt.ylabel('Actual label')\n",
    "plt.xlabel('Predicted label')"
   ]
  },
  {
   "cell_type": "code",
   "execution_count": 51,
   "metadata": {},
   "outputs": [
    {
     "name": "stdout",
     "output_type": "stream",
     "text": [
      "              precision    recall  f1-score   support\n",
      "\n",
      "           0       0.74      1.00      0.85        32\n",
      "           1       1.00      0.15      0.27        13\n",
      "\n",
      "   micro avg       0.76      0.76      0.76        45\n",
      "   macro avg       0.87      0.58      0.56        45\n",
      "weighted avg       0.82      0.76      0.68        45\n",
      "\n"
     ]
    }
   ],
   "source": [
    "print(classification_report(y33_test, y33_pred))"
   ]
  },
  {
   "cell_type": "code",
   "execution_count": 52,
   "metadata": {},
   "outputs": [
    {
     "name": "stdout",
     "output_type": "stream",
     "text": [
      "[0.         0.15384615 1.        ]\n",
      "0.5769230769230769\n"
     ]
    }
   ],
   "source": [
    "y33_true = np.array(y33_test)\n",
    "y33_scores = np.array(y33_pred)\n",
    "#roc_auc_score(y11_true, y11_scores)\n",
    "fpr, tpr, threshold = metrics.roc_curve(y33_test, y33_pred)\n",
    "print(tpr)\n",
    "roc_auc = metrics.auc(fpr, tpr)\n",
    "print(roc_auc) #Computes the area under the curve."
   ]
  },
  {
   "cell_type": "code",
   "execution_count": 53,
   "metadata": {},
   "outputs": [
    {
     "data": {
      "image/png": "[encoded data removed]",
      "text/plain": [
       "<Figure size 432x288 with 1 Axes>"
      ]
     },
     "metadata": {
      "needs_background": "light"
     },
     "output_type": "display_data"
    }
   ],
   "source": [
    "plt.title('Receiver Operating Characteristic')\n",
    "plt.plot(fpr, tpr, 'b', label = 'AUC = %0.2f' % roc_auc)\n",
    "plt.legend(loc = 'lower right')\n",
    "plt.plot([0, 1], [0, 1],'r--')\n",
    "plt.xlim([0, 1])\n",
    "plt.ylim([0, 1])\n",
    "plt.ylabel('True Positive Rate')\n",
    "plt.xlabel('False Positive Rate')\n",
    "plt.show()\n",
    "#We evaluate different models through ROC Curve. The more the Blue line is near the top left corner the more accurate is the model."
   ]
  },
  {
   "cell_type": "code",
   "execution_count": null,
   "metadata": {},
   "outputs": [],
   "source": []
  }
 ],
 "metadata": {
  "kernelspec": {
   "display_name": "Python 3",
   "language": "python",
   "name": "python3"
  },
  "language_info": {
   "codemirror_mode": {
    "name": "ipython",
    "version": 2
   },
   "file_extension": ".py",
   "mimetype": "text/x-python",
   "name": "python",
   "nbconvert_exporter": "python",
   "pygments_lexer": "ipython2",
   "version": "2.7.15"
  }
 },
 "nbformat": 4,
 "nbformat_minor": 2
}
