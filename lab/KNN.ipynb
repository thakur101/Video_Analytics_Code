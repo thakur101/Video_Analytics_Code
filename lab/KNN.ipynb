{
 "cells": [
  {
   "cell_type": "code",
   "execution_count": 79,
   "metadata": {},
   "outputs": [],
   "source": [
    "%matplotlib inline\n",
    "import numpy as np\n",
    "import pandas as pd\n",
    "import seaborn as sns\n",
    "from sklearn import metrics\n",
    "from matplotlib import pyplot as plt\n",
    "from sklearn.metrics import confusion_matrix\n",
    "from sklearn.neighbors import KNeighborsClassifier\n",
    "from sklearn.model_selection import cross_val_score\n",
    "from sklearn.model_selection import train_test_split\n",
    "from sklearn.model_selection import GridSearchCV\n",
    "from sklearn.metrics import roc_auc_score"
   ]
  },
  {
   "cell_type": "code",
   "execution_count": 2,
   "metadata": {},
   "outputs": [],
   "source": [
    "df1 = pd.read_csv('knn_data.csv')"
   ]
  },
  {
   "cell_type": "code",
   "execution_count": 3,
   "metadata": {},
   "outputs": [],
   "source": [
    "df2 = df1.drop(['id'],axis=1)"
   ]
  },
  {
   "cell_type": "code",
   "execution_count": 4,
   "metadata": {},
   "outputs": [],
   "source": [
    "X=df2.iloc[:,1:32]\n",
    "y=df2['diagnosis']\n",
    "X_train, X_test, y_train, y_test = train_test_split(X, y, test_size=0.3,random_state=1,stratify=y)"
   ]
  },
  {
   "cell_type": "code",
   "execution_count": 71,
   "metadata": {},
   "outputs": [
    {
     "data": {
      "image/png": "[encoded data removed]",
      "text/plain": [
       "<Figure size 432x288 with 1 Axes>"
      ]
     },
     "metadata": {
      "needs_background": "light"
     },
     "output_type": "display_data"
    }
   ],
   "source": [
    "diag = df2.copy(deep=True)\n",
    "s1 = pd.Series(y)\n",
    "y11 = s1.map({'B':1, 'M':0})\n",
    "diag['y11'] = y11\n",
    "b = diag.loc[y11 == 1]\n",
    "m = diag.loc[y11 == 0]\n",
    "plt.scatter(b.iloc[:, 0], b.iloc[:, 1], s=10, label='b')\n",
    "plt.scatter(m.iloc[:, 0], m.iloc[:, 1], s=10, label='m')\n",
    "plt.legend()\n",
    "plt.show()\n",
    "#Scatter plot for B and M"
   ]
  },
  {
   "cell_type": "code",
   "execution_count": 74,
   "metadata": {},
   "outputs": [
    {
     "data": {
      "text/plain": [
       "KNeighborsClassifier(algorithm='auto', leaf_size=30, metric='minkowski',\n",
       "           metric_params=None, n_jobs=None, n_neighbors=3, p=2,\n",
       "           weights='uniform')"
      ]
     },
     "execution_count": 74,
     "metadata": {},
     "output_type": "execute_result"
    }
   ],
   "source": [
    "model = KNeighborsClassifier(n_neighbors=3)\n",
    "model.fit(X_train,y_train)"
   ]
  },
  {
   "cell_type": "code",
   "execution_count": 75,
   "metadata": {},
   "outputs": [
    {
     "name": "stdout",
     "output_type": "stream",
     "text": [
      "['B' 'B' 'M' 'B' 'B' 'B' 'M' 'B' 'B' 'B' 'B' 'B' 'M' 'B' 'B' 'M' 'B' 'M'\n",
      " 'B' 'B' 'M' 'B' 'M' 'M' 'M' 'B' 'B' 'M' 'M' 'M' 'B' 'B' 'B' 'B' 'B' 'B'\n",
      " 'B' 'B' 'B' 'B' 'B' 'B' 'B' 'B' 'M' 'B' 'B' 'M' 'B' 'M' 'M' 'M' 'B' 'B'\n",
      " 'M' 'M' 'M' 'B' 'B' 'M' 'M' 'B' 'B' 'M' 'B' 'B' 'B' 'M' 'B' 'M' 'M' 'B'\n",
      " 'B' 'M' 'M' 'B' 'B' 'M' 'B' 'B' 'M' 'B' 'B' 'B' 'M' 'M' 'B' 'B' 'M' 'B'\n",
      " 'M' 'M' 'B' 'M' 'B' 'M' 'M' 'M' 'M' 'B' 'B' 'B' 'B' 'M' 'B' 'B' 'M' 'B'\n",
      " 'M' 'B' 'B' 'M' 'B' 'B' 'B' 'B' 'M' 'B' 'B' 'M' 'B' 'M' 'M' 'B' 'B' 'B'\n",
      " 'M' 'M' 'M' 'B' 'B' 'B' 'B' 'B' 'B' 'B' 'M' 'B' 'B' 'B' 'B' 'B' 'B' 'B'\n",
      " 'B' 'M' 'M' 'M' 'B' 'B' 'M' 'B' 'B' 'B' 'B' 'M' 'B' 'B' 'M' 'M' 'M' 'B'\n",
      " 'B' 'M' 'B' 'B' 'B' 'B' 'B' 'B' 'B']\n"
     ]
    },
    {
     "name": "stderr",
     "output_type": "stream",
     "text": [
      "/home/abhishek/.local/lib/python2.7/site-packages/sklearn/externals/joblib/parallel.py:268: DeprecationWarning: check_pickle is deprecated in joblib 0.12 and will be removed in 0.13\n",
      "  ' removed in 0.13', DeprecationWarning)\n"
     ]
    }
   ],
   "source": [
    "y_pred = model.predict(X_test)[0:len(X_test)]\n",
    "print(y_pred)"
   ]
  },
  {
   "cell_type": "code",
   "execution_count": 76,
   "metadata": {},
   "outputs": [
    {
     "name": "stdout",
     "output_type": "stream",
     "text": [
      "[[103   4]\n",
      " [  7  57]]\n"
     ]
    }
   ],
   "source": [
    "confusion_matrix = confusion_matrix(y_test, y_pred)\n",
    "print(confusion_matrix)"
   ]
  },
  {
   "cell_type": "code",
   "execution_count": 77,
   "metadata": {},
   "outputs": [
    {
     "name": "stderr",
     "output_type": "stream",
     "text": [
      "/home/abhishek/.local/lib/python2.7/site-packages/sklearn/externals/joblib/parallel.py:268: DeprecationWarning: check_pickle is deprecated in joblib 0.12 and will be removed in 0.13\n",
      "  ' removed in 0.13', DeprecationWarning)\n"
     ]
    },
    {
     "data": {
      "text/plain": [
       "0.935672514619883"
      ]
     },
     "execution_count": 77,
     "metadata": {},
     "output_type": "execute_result"
    }
   ],
   "source": [
    "model.score(X_test,y_test) #Calculating the accuracy of our model on the test dataset."
   ]
  },
  {
   "cell_type": "code",
   "execution_count": 20,
   "metadata": {},
   "outputs": [
    {
     "name": "stderr",
     "output_type": "stream",
     "text": [
      "/home/abhishek/.local/lib/python2.7/site-packages/sklearn/externals/joblib/parallel.py:268: DeprecationWarning: check_pickle is deprecated in joblib 0.12 and will be removed in 0.13\n",
      "  ' removed in 0.13', DeprecationWarning)\n",
      "/home/abhishek/.local/lib/python2.7/site-packages/sklearn/externals/joblib/parallel.py:268: DeprecationWarning: check_pickle is deprecated in joblib 0.12 and will be removed in 0.13\n",
      "  ' removed in 0.13', DeprecationWarning)\n",
      "/home/abhishek/.local/lib/python2.7/site-packages/sklearn/externals/joblib/parallel.py:268: DeprecationWarning: check_pickle is deprecated in joblib 0.12 and will be removed in 0.13\n",
      "  ' removed in 0.13', DeprecationWarning)\n",
      "/home/abhishek/.local/lib/python2.7/site-packages/sklearn/externals/joblib/parallel.py:268: DeprecationWarning: check_pickle is deprecated in joblib 0.12 and will be removed in 0.13\n",
      "  ' removed in 0.13', DeprecationWarning)\n",
      "/home/abhishek/.local/lib/python2.7/site-packages/sklearn/externals/joblib/parallel.py:268: DeprecationWarning: check_pickle is deprecated in joblib 0.12 and will be removed in 0.13\n",
      "  ' removed in 0.13', DeprecationWarning)\n",
      "/home/abhishek/.local/lib/python2.7/site-packages/sklearn/externals/joblib/parallel.py:268: DeprecationWarning: check_pickle is deprecated in joblib 0.12 and will be removed in 0.13\n",
      "  ' removed in 0.13', DeprecationWarning)\n",
      "/home/abhishek/.local/lib/python2.7/site-packages/sklearn/externals/joblib/parallel.py:268: DeprecationWarning: check_pickle is deprecated in joblib 0.12 and will be removed in 0.13\n",
      "  ' removed in 0.13', DeprecationWarning)\n",
      "/home/abhishek/.local/lib/python2.7/site-packages/sklearn/externals/joblib/parallel.py:268: DeprecationWarning: check_pickle is deprecated in joblib 0.12 and will be removed in 0.13\n",
      "  ' removed in 0.13', DeprecationWarning)\n",
      "/home/abhishek/.local/lib/python2.7/site-packages/sklearn/externals/joblib/parallel.py:268: DeprecationWarning: check_pickle is deprecated in joblib 0.12 and will be removed in 0.13\n",
      "  ' removed in 0.13', DeprecationWarning)\n",
      "/home/abhishek/.local/lib/python2.7/site-packages/sklearn/externals/joblib/parallel.py:268: DeprecationWarning: check_pickle is deprecated in joblib 0.12 and will be removed in 0.13\n",
      "  ' removed in 0.13', DeprecationWarning)\n"
     ]
    }
   ],
   "source": [
    "#train model with cv of 10 \n",
    "cv_scores = cross_val_score(model, X, y, cv=10)"
   ]
  },
  {
   "cell_type": "code",
   "execution_count": 23,
   "metadata": {},
   "outputs": [
    {
     "name": "stdout",
     "output_type": "stream",
     "text": [
      "[0.93103448 0.89655172 0.85964912 0.92982456 0.98245614 0.96491228\n",
      " 0.9122807  0.96428571 0.92857143 0.94642857]\n",
      "cv_scores mean:0.93159947282\n"
     ]
    }
   ],
   "source": [
    "#print each cv score (accuracy) and average them\n",
    "print(cv_scores)\n",
    "print(\"cv_scores mean:{}\".format(np.mean(cv_scores)))"
   ]
  },
  {
   "cell_type": "code",
   "execution_count": 24,
   "metadata": {},
   "outputs": [],
   "source": [
    "knn2 = KNeighborsClassifier()"
   ]
  },
  {
   "cell_type": "code",
   "execution_count": 28,
   "metadata": {},
   "outputs": [
    {
     "name": "stderr",
     "output_type": "stream",
     "text": [
      "/home/abhishek/.local/lib/python2.7/site-packages/sklearn/externals/joblib/parallel.py:268: DeprecationWarning: check_pickle is deprecated in joblib 0.12 and will be removed in 0.13\n",
      "  ' removed in 0.13', DeprecationWarning)\n",
      "/home/abhishek/.local/lib/python2.7/site-packages/sklearn/externals/joblib/parallel.py:268: DeprecationWarning: check_pickle is deprecated in joblib 0.12 and will be removed in 0.13\n",
      "  ' removed in 0.13', DeprecationWarning)\n",
      "/home/abhishek/.local/lib/python2.7/site-packages/sklearn/externals/joblib/parallel.py:268: DeprecationWarning: check_pickle is deprecated in joblib 0.12 and will be removed in 0.13\n",
      "  ' removed in 0.13', DeprecationWarning)\n",
      "/home/abhishek/.local/lib/python2.7/site-packages/sklearn/externals/joblib/parallel.py:268: DeprecationWarning: check_pickle is deprecated in joblib 0.12 and will be removed in 0.13\n",
      "  ' removed in 0.13', DeprecationWarning)\n",
      "/home/abhishek/.local/lib/python2.7/site-packages/sklearn/externals/joblib/parallel.py:268: DeprecationWarning: check_pickle is deprecated in joblib 0.12 and will be removed in 0.13\n",
      "  ' removed in 0.13', DeprecationWarning)\n",
      "/home/abhishek/.local/lib/python2.7/site-packages/sklearn/externals/joblib/parallel.py:268: DeprecationWarning: check_pickle is deprecated in joblib 0.12 and will be removed in 0.13\n",
      "  ' removed in 0.13', DeprecationWarning)\n",
      "/home/abhishek/.local/lib/python2.7/site-packages/sklearn/externals/joblib/parallel.py:268: DeprecationWarning: check_pickle is deprecated in joblib 0.12 and will be removed in 0.13\n",
      "  ' removed in 0.13', DeprecationWarning)\n",
      "/home/abhishek/.local/lib/python2.7/site-packages/sklearn/externals/joblib/parallel.py:268: DeprecationWarning: check_pickle is deprecated in joblib 0.12 and will be removed in 0.13\n",
      "  ' removed in 0.13', DeprecationWarning)\n",
      "/home/abhishek/.local/lib/python2.7/site-packages/sklearn/externals/joblib/parallel.py:268: DeprecationWarning: check_pickle is deprecated in joblib 0.12 and will be removed in 0.13\n",
      "  ' removed in 0.13', DeprecationWarning)\n",
      "/home/abhishek/.local/lib/python2.7/site-packages/sklearn/externals/joblib/parallel.py:268: DeprecationWarning: check_pickle is deprecated in joblib 0.12 and will be removed in 0.13\n",
      "  ' removed in 0.13', DeprecationWarning)\n",
      "/home/abhishek/.local/lib/python2.7/site-packages/sklearn/externals/joblib/parallel.py:268: DeprecationWarning: check_pickle is deprecated in joblib 0.12 and will be removed in 0.13\n",
      "  ' removed in 0.13', DeprecationWarning)\n",
      "/home/abhishek/.local/lib/python2.7/site-packages/sklearn/externals/joblib/parallel.py:268: DeprecationWarning: check_pickle is deprecated in joblib 0.12 and will be removed in 0.13\n",
      "  ' removed in 0.13', DeprecationWarning)\n",
      "/home/abhishek/.local/lib/python2.7/site-packages/sklearn/externals/joblib/parallel.py:268: DeprecationWarning: check_pickle is deprecated in joblib 0.12 and will be removed in 0.13\n",
      "  ' removed in 0.13', DeprecationWarning)\n",
      "/home/abhishek/.local/lib/python2.7/site-packages/sklearn/externals/joblib/parallel.py:268: DeprecationWarning: check_pickle is deprecated in joblib 0.12 and will be removed in 0.13\n",
      "  ' removed in 0.13', DeprecationWarning)\n",
      "/home/abhishek/.local/lib/python2.7/site-packages/sklearn/externals/joblib/parallel.py:268: DeprecationWarning: check_pickle is deprecated in joblib 0.12 and will be removed in 0.13\n",
      "  ' removed in 0.13', DeprecationWarning)\n",
      "/home/abhishek/.local/lib/python2.7/site-packages/sklearn/externals/joblib/parallel.py:268: DeprecationWarning: check_pickle is deprecated in joblib 0.12 and will be removed in 0.13\n",
      "  ' removed in 0.13', DeprecationWarning)\n",
      "/home/abhishek/.local/lib/python2.7/site-packages/sklearn/externals/joblib/parallel.py:268: DeprecationWarning: check_pickle is deprecated in joblib 0.12 and will be removed in 0.13\n",
      "  ' removed in 0.13', DeprecationWarning)\n",
      "/home/abhishek/.local/lib/python2.7/site-packages/sklearn/externals/joblib/parallel.py:268: DeprecationWarning: check_pickle is deprecated in joblib 0.12 and will be removed in 0.13\n",
      "  ' removed in 0.13', DeprecationWarning)\n",
      "/home/abhishek/.local/lib/python2.7/site-packages/sklearn/externals/joblib/parallel.py:268: DeprecationWarning: check_pickle is deprecated in joblib 0.12 and will be removed in 0.13\n",
      "  ' removed in 0.13', DeprecationWarning)\n",
      "/home/abhishek/.local/lib/python2.7/site-packages/sklearn/externals/joblib/parallel.py:268: DeprecationWarning: check_pickle is deprecated in joblib 0.12 and will be removed in 0.13\n",
      "  ' removed in 0.13', DeprecationWarning)\n",
      "/home/abhishek/.local/lib/python2.7/site-packages/sklearn/externals/joblib/parallel.py:268: DeprecationWarning: check_pickle is deprecated in joblib 0.12 and will be removed in 0.13\n",
      "  ' removed in 0.13', DeprecationWarning)\n",
      "/home/abhishek/.local/lib/python2.7/site-packages/sklearn/externals/joblib/parallel.py:268: DeprecationWarning: check_pickle is deprecated in joblib 0.12 and will be removed in 0.13\n",
      "  ' removed in 0.13', DeprecationWarning)\n",
      "/home/abhishek/.local/lib/python2.7/site-packages/sklearn/externals/joblib/parallel.py:268: DeprecationWarning: check_pickle is deprecated in joblib 0.12 and will be removed in 0.13\n",
      "  ' removed in 0.13', DeprecationWarning)\n",
      "/home/abhishek/.local/lib/python2.7/site-packages/sklearn/externals/joblib/parallel.py:268: DeprecationWarning: check_pickle is deprecated in joblib 0.12 and will be removed in 0.13\n",
      "  ' removed in 0.13', DeprecationWarning)\n",
      "/home/abhishek/.local/lib/python2.7/site-packages/sklearn/externals/joblib/parallel.py:268: DeprecationWarning: check_pickle is deprecated in joblib 0.12 and will be removed in 0.13\n",
      "  ' removed in 0.13', DeprecationWarning)\n",
      "/home/abhishek/.local/lib/python2.7/site-packages/sklearn/externals/joblib/parallel.py:268: DeprecationWarning: check_pickle is deprecated in joblib 0.12 and will be removed in 0.13\n",
      "  ' removed in 0.13', DeprecationWarning)\n",
      "/home/abhishek/.local/lib/python2.7/site-packages/sklearn/externals/joblib/parallel.py:268: DeprecationWarning: check_pickle is deprecated in joblib 0.12 and will be removed in 0.13\n",
      "  ' removed in 0.13', DeprecationWarning)\n",
      "/home/abhishek/.local/lib/python2.7/site-packages/sklearn/externals/joblib/parallel.py:268: DeprecationWarning: check_pickle is deprecated in joblib 0.12 and will be removed in 0.13\n",
      "  ' removed in 0.13', DeprecationWarning)\n",
      "/home/abhishek/.local/lib/python2.7/site-packages/sklearn/externals/joblib/parallel.py:268: DeprecationWarning: check_pickle is deprecated in joblib 0.12 and will be removed in 0.13\n",
      "  ' removed in 0.13', DeprecationWarning)\n",
      "/home/abhishek/.local/lib/python2.7/site-packages/sklearn/externals/joblib/parallel.py:268: DeprecationWarning: check_pickle is deprecated in joblib 0.12 and will be removed in 0.13\n",
      "  ' removed in 0.13', DeprecationWarning)\n",
      "/home/abhishek/.local/lib/python2.7/site-packages/sklearn/externals/joblib/parallel.py:268: DeprecationWarning: check_pickle is deprecated in joblib 0.12 and will be removed in 0.13\n",
      "  ' removed in 0.13', DeprecationWarning)\n",
      "/home/abhishek/.local/lib/python2.7/site-packages/sklearn/externals/joblib/parallel.py:268: DeprecationWarning: check_pickle is deprecated in joblib 0.12 and will be removed in 0.13\n",
      "  ' removed in 0.13', DeprecationWarning)\n",
      "/home/abhishek/.local/lib/python2.7/site-packages/sklearn/externals/joblib/parallel.py:268: DeprecationWarning: check_pickle is deprecated in joblib 0.12 and will be removed in 0.13\n",
      "  ' removed in 0.13', DeprecationWarning)\n",
      "/home/abhishek/.local/lib/python2.7/site-packages/sklearn/externals/joblib/parallel.py:268: DeprecationWarning: check_pickle is deprecated in joblib 0.12 and will be removed in 0.13\n",
      "  ' removed in 0.13', DeprecationWarning)\n",
      "/home/abhishek/.local/lib/python2.7/site-packages/sklearn/externals/joblib/parallel.py:268: DeprecationWarning: check_pickle is deprecated in joblib 0.12 and will be removed in 0.13\n",
      "  ' removed in 0.13', DeprecationWarning)\n",
      "/home/abhishek/.local/lib/python2.7/site-packages/sklearn/externals/joblib/parallel.py:268: DeprecationWarning: check_pickle is deprecated in joblib 0.12 and will be removed in 0.13\n",
      "  ' removed in 0.13', DeprecationWarning)\n",
      "/home/abhishek/.local/lib/python2.7/site-packages/sklearn/externals/joblib/parallel.py:268: DeprecationWarning: check_pickle is deprecated in joblib 0.12 and will be removed in 0.13\n",
      "  ' removed in 0.13', DeprecationWarning)\n",
      "/home/abhishek/.local/lib/python2.7/site-packages/sklearn/externals/joblib/parallel.py:268: DeprecationWarning: check_pickle is deprecated in joblib 0.12 and will be removed in 0.13\n",
      "  ' removed in 0.13', DeprecationWarning)\n",
      "/home/abhishek/.local/lib/python2.7/site-packages/sklearn/externals/joblib/parallel.py:268: DeprecationWarning: check_pickle is deprecated in joblib 0.12 and will be removed in 0.13\n",
      "  ' removed in 0.13', DeprecationWarning)\n",
      "/home/abhishek/.local/lib/python2.7/site-packages/sklearn/externals/joblib/parallel.py:268: DeprecationWarning: check_pickle is deprecated in joblib 0.12 and will be removed in 0.13\n",
      "  ' removed in 0.13', DeprecationWarning)\n",
      "/home/abhishek/.local/lib/python2.7/site-packages/sklearn/externals/joblib/parallel.py:268: DeprecationWarning: check_pickle is deprecated in joblib 0.12 and will be removed in 0.13\n",
      "  ' removed in 0.13', DeprecationWarning)\n",
      "/home/abhishek/.local/lib/python2.7/site-packages/sklearn/externals/joblib/parallel.py:268: DeprecationWarning: check_pickle is deprecated in joblib 0.12 and will be removed in 0.13\n",
      "  ' removed in 0.13', DeprecationWarning)\n",
      "/home/abhishek/.local/lib/python2.7/site-packages/sklearn/externals/joblib/parallel.py:268: DeprecationWarning: check_pickle is deprecated in joblib 0.12 and will be removed in 0.13\n",
      "  ' removed in 0.13', DeprecationWarning)\n",
      "/home/abhishek/.local/lib/python2.7/site-packages/sklearn/externals/joblib/parallel.py:268: DeprecationWarning: check_pickle is deprecated in joblib 0.12 and will be removed in 0.13\n",
      "  ' removed in 0.13', DeprecationWarning)\n",
      "/home/abhishek/.local/lib/python2.7/site-packages/sklearn/externals/joblib/parallel.py:268: DeprecationWarning: check_pickle is deprecated in joblib 0.12 and will be removed in 0.13\n",
      "  ' removed in 0.13', DeprecationWarning)\n",
      "/home/abhishek/.local/lib/python2.7/site-packages/sklearn/externals/joblib/parallel.py:268: DeprecationWarning: check_pickle is deprecated in joblib 0.12 and will be removed in 0.13\n",
      "  ' removed in 0.13', DeprecationWarning)\n",
      "/home/abhishek/.local/lib/python2.7/site-packages/sklearn/externals/joblib/parallel.py:268: DeprecationWarning: check_pickle is deprecated in joblib 0.12 and will be removed in 0.13\n",
      "  ' removed in 0.13', DeprecationWarning)\n",
      "/home/abhishek/.local/lib/python2.7/site-packages/sklearn/externals/joblib/parallel.py:268: DeprecationWarning: check_pickle is deprecated in joblib 0.12 and will be removed in 0.13\n",
      "  ' removed in 0.13', DeprecationWarning)\n"
     ]
    },
    {
     "name": "stderr",
     "output_type": "stream",
     "text": [
      "/home/abhishek/.local/lib/python2.7/site-packages/sklearn/externals/joblib/parallel.py:268: DeprecationWarning: check_pickle is deprecated in joblib 0.12 and will be removed in 0.13\n",
      "  ' removed in 0.13', DeprecationWarning)\n",
      "/home/abhishek/.local/lib/python2.7/site-packages/sklearn/externals/joblib/parallel.py:268: DeprecationWarning: check_pickle is deprecated in joblib 0.12 and will be removed in 0.13\n",
      "  ' removed in 0.13', DeprecationWarning)\n",
      "/home/abhishek/.local/lib/python2.7/site-packages/sklearn/externals/joblib/parallel.py:268: DeprecationWarning: check_pickle is deprecated in joblib 0.12 and will be removed in 0.13\n",
      "  ' removed in 0.13', DeprecationWarning)\n",
      "/home/abhishek/.local/lib/python2.7/site-packages/sklearn/externals/joblib/parallel.py:268: DeprecationWarning: check_pickle is deprecated in joblib 0.12 and will be removed in 0.13\n",
      "  ' removed in 0.13', DeprecationWarning)\n",
      "/home/abhishek/.local/lib/python2.7/site-packages/sklearn/externals/joblib/parallel.py:268: DeprecationWarning: check_pickle is deprecated in joblib 0.12 and will be removed in 0.13\n",
      "  ' removed in 0.13', DeprecationWarning)\n",
      "/home/abhishek/.local/lib/python2.7/site-packages/sklearn/externals/joblib/parallel.py:268: DeprecationWarning: check_pickle is deprecated in joblib 0.12 and will be removed in 0.13\n",
      "  ' removed in 0.13', DeprecationWarning)\n",
      "/home/abhishek/.local/lib/python2.7/site-packages/sklearn/externals/joblib/parallel.py:268: DeprecationWarning: check_pickle is deprecated in joblib 0.12 and will be removed in 0.13\n",
      "  ' removed in 0.13', DeprecationWarning)\n",
      "/home/abhishek/.local/lib/python2.7/site-packages/sklearn/externals/joblib/parallel.py:268: DeprecationWarning: check_pickle is deprecated in joblib 0.12 and will be removed in 0.13\n",
      "  ' removed in 0.13', DeprecationWarning)\n",
      "/home/abhishek/.local/lib/python2.7/site-packages/sklearn/externals/joblib/parallel.py:268: DeprecationWarning: check_pickle is deprecated in joblib 0.12 and will be removed in 0.13\n",
      "  ' removed in 0.13', DeprecationWarning)\n",
      "/home/abhishek/.local/lib/python2.7/site-packages/sklearn/externals/joblib/parallel.py:268: DeprecationWarning: check_pickle is deprecated in joblib 0.12 and will be removed in 0.13\n",
      "  ' removed in 0.13', DeprecationWarning)\n",
      "/home/abhishek/.local/lib/python2.7/site-packages/sklearn/externals/joblib/parallel.py:268: DeprecationWarning: check_pickle is deprecated in joblib 0.12 and will be removed in 0.13\n",
      "  ' removed in 0.13', DeprecationWarning)\n",
      "/home/abhishek/.local/lib/python2.7/site-packages/sklearn/externals/joblib/parallel.py:268: DeprecationWarning: check_pickle is deprecated in joblib 0.12 and will be removed in 0.13\n",
      "  ' removed in 0.13', DeprecationWarning)\n",
      "/home/abhishek/.local/lib/python2.7/site-packages/sklearn/externals/joblib/parallel.py:268: DeprecationWarning: check_pickle is deprecated in joblib 0.12 and will be removed in 0.13\n",
      "  ' removed in 0.13', DeprecationWarning)\n",
      "/home/abhishek/.local/lib/python2.7/site-packages/sklearn/externals/joblib/parallel.py:268: DeprecationWarning: check_pickle is deprecated in joblib 0.12 and will be removed in 0.13\n",
      "  ' removed in 0.13', DeprecationWarning)\n",
      "/home/abhishek/.local/lib/python2.7/site-packages/sklearn/externals/joblib/parallel.py:268: DeprecationWarning: check_pickle is deprecated in joblib 0.12 and will be removed in 0.13\n",
      "  ' removed in 0.13', DeprecationWarning)\n",
      "/home/abhishek/.local/lib/python2.7/site-packages/sklearn/externals/joblib/parallel.py:268: DeprecationWarning: check_pickle is deprecated in joblib 0.12 and will be removed in 0.13\n",
      "  ' removed in 0.13', DeprecationWarning)\n",
      "/home/abhishek/.local/lib/python2.7/site-packages/sklearn/externals/joblib/parallel.py:268: DeprecationWarning: check_pickle is deprecated in joblib 0.12 and will be removed in 0.13\n",
      "  ' removed in 0.13', DeprecationWarning)\n",
      "/home/abhishek/.local/lib/python2.7/site-packages/sklearn/externals/joblib/parallel.py:268: DeprecationWarning: check_pickle is deprecated in joblib 0.12 and will be removed in 0.13\n",
      "  ' removed in 0.13', DeprecationWarning)\n",
      "/home/abhishek/.local/lib/python2.7/site-packages/sklearn/externals/joblib/parallel.py:268: DeprecationWarning: check_pickle is deprecated in joblib 0.12 and will be removed in 0.13\n",
      "  ' removed in 0.13', DeprecationWarning)\n",
      "/home/abhishek/.local/lib/python2.7/site-packages/sklearn/externals/joblib/parallel.py:268: DeprecationWarning: check_pickle is deprecated in joblib 0.12 and will be removed in 0.13\n",
      "  ' removed in 0.13', DeprecationWarning)\n",
      "/home/abhishek/.local/lib/python2.7/site-packages/sklearn/externals/joblib/parallel.py:268: DeprecationWarning: check_pickle is deprecated in joblib 0.12 and will be removed in 0.13\n",
      "  ' removed in 0.13', DeprecationWarning)\n",
      "/home/abhishek/.local/lib/python2.7/site-packages/sklearn/externals/joblib/parallel.py:268: DeprecationWarning: check_pickle is deprecated in joblib 0.12 and will be removed in 0.13\n",
      "  ' removed in 0.13', DeprecationWarning)\n",
      "/home/abhishek/.local/lib/python2.7/site-packages/sklearn/externals/joblib/parallel.py:268: DeprecationWarning: check_pickle is deprecated in joblib 0.12 and will be removed in 0.13\n",
      "  ' removed in 0.13', DeprecationWarning)\n",
      "/home/abhishek/.local/lib/python2.7/site-packages/sklearn/externals/joblib/parallel.py:268: DeprecationWarning: check_pickle is deprecated in joblib 0.12 and will be removed in 0.13\n",
      "  ' removed in 0.13', DeprecationWarning)\n",
      "/home/abhishek/.local/lib/python2.7/site-packages/sklearn/externals/joblib/parallel.py:268: DeprecationWarning: check_pickle is deprecated in joblib 0.12 and will be removed in 0.13\n",
      "  ' removed in 0.13', DeprecationWarning)\n",
      "/home/abhishek/.local/lib/python2.7/site-packages/sklearn/externals/joblib/parallel.py:268: DeprecationWarning: check_pickle is deprecated in joblib 0.12 and will be removed in 0.13\n",
      "  ' removed in 0.13', DeprecationWarning)\n",
      "/home/abhishek/.local/lib/python2.7/site-packages/sklearn/externals/joblib/parallel.py:268: DeprecationWarning: check_pickle is deprecated in joblib 0.12 and will be removed in 0.13\n",
      "  ' removed in 0.13', DeprecationWarning)\n",
      "/home/abhishek/.local/lib/python2.7/site-packages/sklearn/externals/joblib/parallel.py:268: DeprecationWarning: check_pickle is deprecated in joblib 0.12 and will be removed in 0.13\n",
      "  ' removed in 0.13', DeprecationWarning)\n",
      "/home/abhishek/.local/lib/python2.7/site-packages/sklearn/externals/joblib/parallel.py:268: DeprecationWarning: check_pickle is deprecated in joblib 0.12 and will be removed in 0.13\n",
      "  ' removed in 0.13', DeprecationWarning)\n",
      "/home/abhishek/.local/lib/python2.7/site-packages/sklearn/externals/joblib/parallel.py:268: DeprecationWarning: check_pickle is deprecated in joblib 0.12 and will be removed in 0.13\n",
      "  ' removed in 0.13', DeprecationWarning)\n",
      "/home/abhishek/.local/lib/python2.7/site-packages/sklearn/externals/joblib/parallel.py:268: DeprecationWarning: check_pickle is deprecated in joblib 0.12 and will be removed in 0.13\n",
      "  ' removed in 0.13', DeprecationWarning)\n",
      "/home/abhishek/.local/lib/python2.7/site-packages/sklearn/externals/joblib/parallel.py:268: DeprecationWarning: check_pickle is deprecated in joblib 0.12 and will be removed in 0.13\n",
      "  ' removed in 0.13', DeprecationWarning)\n",
      "/home/abhishek/.local/lib/python2.7/site-packages/sklearn/externals/joblib/parallel.py:268: DeprecationWarning: check_pickle is deprecated in joblib 0.12 and will be removed in 0.13\n",
      "  ' removed in 0.13', DeprecationWarning)\n",
      "/home/abhishek/.local/lib/python2.7/site-packages/sklearn/externals/joblib/parallel.py:268: DeprecationWarning: check_pickle is deprecated in joblib 0.12 and will be removed in 0.13\n",
      "  ' removed in 0.13', DeprecationWarning)\n",
      "/home/abhishek/.local/lib/python2.7/site-packages/sklearn/externals/joblib/parallel.py:268: DeprecationWarning: check_pickle is deprecated in joblib 0.12 and will be removed in 0.13\n",
      "  ' removed in 0.13', DeprecationWarning)\n",
      "/home/abhishek/.local/lib/python2.7/site-packages/sklearn/externals/joblib/parallel.py:268: DeprecationWarning: check_pickle is deprecated in joblib 0.12 and will be removed in 0.13\n",
      "  ' removed in 0.13', DeprecationWarning)\n",
      "/home/abhishek/.local/lib/python2.7/site-packages/sklearn/externals/joblib/parallel.py:268: DeprecationWarning: check_pickle is deprecated in joblib 0.12 and will be removed in 0.13\n",
      "  ' removed in 0.13', DeprecationWarning)\n",
      "/home/abhishek/.local/lib/python2.7/site-packages/sklearn/externals/joblib/parallel.py:268: DeprecationWarning: check_pickle is deprecated in joblib 0.12 and will be removed in 0.13\n",
      "  ' removed in 0.13', DeprecationWarning)\n",
      "/home/abhishek/.local/lib/python2.7/site-packages/sklearn/externals/joblib/parallel.py:268: DeprecationWarning: check_pickle is deprecated in joblib 0.12 and will be removed in 0.13\n",
      "  ' removed in 0.13', DeprecationWarning)\n",
      "/home/abhishek/.local/lib/python2.7/site-packages/sklearn/externals/joblib/parallel.py:268: DeprecationWarning: check_pickle is deprecated in joblib 0.12 and will be removed in 0.13\n",
      "  ' removed in 0.13', DeprecationWarning)\n",
      "/home/abhishek/.local/lib/python2.7/site-packages/sklearn/externals/joblib/parallel.py:268: DeprecationWarning: check_pickle is deprecated in joblib 0.12 and will be removed in 0.13\n",
      "  ' removed in 0.13', DeprecationWarning)\n",
      "/home/abhishek/.local/lib/python2.7/site-packages/sklearn/externals/joblib/parallel.py:268: DeprecationWarning: check_pickle is deprecated in joblib 0.12 and will be removed in 0.13\n",
      "  ' removed in 0.13', DeprecationWarning)\n",
      "/home/abhishek/.local/lib/python2.7/site-packages/sklearn/externals/joblib/parallel.py:268: DeprecationWarning: check_pickle is deprecated in joblib 0.12 and will be removed in 0.13\n",
      "  ' removed in 0.13', DeprecationWarning)\n",
      "/home/abhishek/.local/lib/python2.7/site-packages/sklearn/externals/joblib/parallel.py:268: DeprecationWarning: check_pickle is deprecated in joblib 0.12 and will be removed in 0.13\n",
      "  ' removed in 0.13', DeprecationWarning)\n",
      "/home/abhishek/.local/lib/python2.7/site-packages/sklearn/externals/joblib/parallel.py:268: DeprecationWarning: check_pickle is deprecated in joblib 0.12 and will be removed in 0.13\n",
      "  ' removed in 0.13', DeprecationWarning)\n",
      "/home/abhishek/.local/lib/python2.7/site-packages/sklearn/externals/joblib/parallel.py:268: DeprecationWarning: check_pickle is deprecated in joblib 0.12 and will be removed in 0.13\n",
      "  ' removed in 0.13', DeprecationWarning)\n"
     ]
    },
    {
     "name": "stderr",
     "output_type": "stream",
     "text": [
      "/home/abhishek/.local/lib/python2.7/site-packages/sklearn/externals/joblib/parallel.py:268: DeprecationWarning: check_pickle is deprecated in joblib 0.12 and will be removed in 0.13\n",
      "  ' removed in 0.13', DeprecationWarning)\n",
      "/home/abhishek/.local/lib/python2.7/site-packages/sklearn/externals/joblib/parallel.py:268: DeprecationWarning: check_pickle is deprecated in joblib 0.12 and will be removed in 0.13\n",
      "  ' removed in 0.13', DeprecationWarning)\n",
      "/home/abhishek/.local/lib/python2.7/site-packages/sklearn/externals/joblib/parallel.py:268: DeprecationWarning: check_pickle is deprecated in joblib 0.12 and will be removed in 0.13\n",
      "  ' removed in 0.13', DeprecationWarning)\n",
      "/home/abhishek/.local/lib/python2.7/site-packages/sklearn/externals/joblib/parallel.py:268: DeprecationWarning: check_pickle is deprecated in joblib 0.12 and will be removed in 0.13\n",
      "  ' removed in 0.13', DeprecationWarning)\n",
      "/home/abhishek/.local/lib/python2.7/site-packages/sklearn/externals/joblib/parallel.py:268: DeprecationWarning: check_pickle is deprecated in joblib 0.12 and will be removed in 0.13\n",
      "  ' removed in 0.13', DeprecationWarning)\n",
      "/home/abhishek/.local/lib/python2.7/site-packages/sklearn/externals/joblib/parallel.py:268: DeprecationWarning: check_pickle is deprecated in joblib 0.12 and will be removed in 0.13\n",
      "  ' removed in 0.13', DeprecationWarning)\n",
      "/home/abhishek/.local/lib/python2.7/site-packages/sklearn/externals/joblib/parallel.py:268: DeprecationWarning: check_pickle is deprecated in joblib 0.12 and will be removed in 0.13\n",
      "  ' removed in 0.13', DeprecationWarning)\n",
      "/home/abhishek/.local/lib/python2.7/site-packages/sklearn/externals/joblib/parallel.py:268: DeprecationWarning: check_pickle is deprecated in joblib 0.12 and will be removed in 0.13\n",
      "  ' removed in 0.13', DeprecationWarning)\n",
      "/home/abhishek/.local/lib/python2.7/site-packages/sklearn/externals/joblib/parallel.py:268: DeprecationWarning: check_pickle is deprecated in joblib 0.12 and will be removed in 0.13\n",
      "  ' removed in 0.13', DeprecationWarning)\n",
      "/home/abhishek/.local/lib/python2.7/site-packages/sklearn/externals/joblib/parallel.py:268: DeprecationWarning: check_pickle is deprecated in joblib 0.12 and will be removed in 0.13\n",
      "  ' removed in 0.13', DeprecationWarning)\n",
      "/home/abhishek/.local/lib/python2.7/site-packages/sklearn/externals/joblib/parallel.py:268: DeprecationWarning: check_pickle is deprecated in joblib 0.12 and will be removed in 0.13\n",
      "  ' removed in 0.13', DeprecationWarning)\n",
      "/home/abhishek/.local/lib/python2.7/site-packages/sklearn/externals/joblib/parallel.py:268: DeprecationWarning: check_pickle is deprecated in joblib 0.12 and will be removed in 0.13\n",
      "  ' removed in 0.13', DeprecationWarning)\n",
      "/home/abhishek/.local/lib/python2.7/site-packages/sklearn/externals/joblib/parallel.py:268: DeprecationWarning: check_pickle is deprecated in joblib 0.12 and will be removed in 0.13\n",
      "  ' removed in 0.13', DeprecationWarning)\n",
      "/home/abhishek/.local/lib/python2.7/site-packages/sklearn/externals/joblib/parallel.py:268: DeprecationWarning: check_pickle is deprecated in joblib 0.12 and will be removed in 0.13\n",
      "  ' removed in 0.13', DeprecationWarning)\n",
      "/home/abhishek/.local/lib/python2.7/site-packages/sklearn/externals/joblib/parallel.py:268: DeprecationWarning: check_pickle is deprecated in joblib 0.12 and will be removed in 0.13\n",
      "  ' removed in 0.13', DeprecationWarning)\n",
      "/home/abhishek/.local/lib/python2.7/site-packages/sklearn/externals/joblib/parallel.py:268: DeprecationWarning: check_pickle is deprecated in joblib 0.12 and will be removed in 0.13\n",
      "  ' removed in 0.13', DeprecationWarning)\n",
      "/home/abhishek/.local/lib/python2.7/site-packages/sklearn/externals/joblib/parallel.py:268: DeprecationWarning: check_pickle is deprecated in joblib 0.12 and will be removed in 0.13\n",
      "  ' removed in 0.13', DeprecationWarning)\n",
      "/home/abhishek/.local/lib/python2.7/site-packages/sklearn/externals/joblib/parallel.py:268: DeprecationWarning: check_pickle is deprecated in joblib 0.12 and will be removed in 0.13\n",
      "  ' removed in 0.13', DeprecationWarning)\n",
      "/home/abhishek/.local/lib/python2.7/site-packages/sklearn/externals/joblib/parallel.py:268: DeprecationWarning: check_pickle is deprecated in joblib 0.12 and will be removed in 0.13\n",
      "  ' removed in 0.13', DeprecationWarning)\n",
      "/home/abhishek/.local/lib/python2.7/site-packages/sklearn/externals/joblib/parallel.py:268: DeprecationWarning: check_pickle is deprecated in joblib 0.12 and will be removed in 0.13\n",
      "  ' removed in 0.13', DeprecationWarning)\n",
      "/home/abhishek/.local/lib/python2.7/site-packages/sklearn/externals/joblib/parallel.py:268: DeprecationWarning: check_pickle is deprecated in joblib 0.12 and will be removed in 0.13\n",
      "  ' removed in 0.13', DeprecationWarning)\n",
      "/home/abhishek/.local/lib/python2.7/site-packages/sklearn/externals/joblib/parallel.py:268: DeprecationWarning: check_pickle is deprecated in joblib 0.12 and will be removed in 0.13\n",
      "  ' removed in 0.13', DeprecationWarning)\n",
      "/home/abhishek/.local/lib/python2.7/site-packages/sklearn/externals/joblib/parallel.py:268: DeprecationWarning: check_pickle is deprecated in joblib 0.12 and will be removed in 0.13\n",
      "  ' removed in 0.13', DeprecationWarning)\n",
      "/home/abhishek/.local/lib/python2.7/site-packages/sklearn/externals/joblib/parallel.py:268: DeprecationWarning: check_pickle is deprecated in joblib 0.12 and will be removed in 0.13\n",
      "  ' removed in 0.13', DeprecationWarning)\n",
      "/home/abhishek/.local/lib/python2.7/site-packages/sklearn/externals/joblib/parallel.py:268: DeprecationWarning: check_pickle is deprecated in joblib 0.12 and will be removed in 0.13\n",
      "  ' removed in 0.13', DeprecationWarning)\n",
      "/home/abhishek/.local/lib/python2.7/site-packages/sklearn/externals/joblib/parallel.py:268: DeprecationWarning: check_pickle is deprecated in joblib 0.12 and will be removed in 0.13\n",
      "  ' removed in 0.13', DeprecationWarning)\n",
      "/home/abhishek/.local/lib/python2.7/site-packages/sklearn/externals/joblib/parallel.py:268: DeprecationWarning: check_pickle is deprecated in joblib 0.12 and will be removed in 0.13\n",
      "  ' removed in 0.13', DeprecationWarning)\n",
      "/home/abhishek/.local/lib/python2.7/site-packages/sklearn/externals/joblib/parallel.py:268: DeprecationWarning: check_pickle is deprecated in joblib 0.12 and will be removed in 0.13\n",
      "  ' removed in 0.13', DeprecationWarning)\n",
      "/home/abhishek/.local/lib/python2.7/site-packages/sklearn/externals/joblib/parallel.py:268: DeprecationWarning: check_pickle is deprecated in joblib 0.12 and will be removed in 0.13\n",
      "  ' removed in 0.13', DeprecationWarning)\n",
      "/home/abhishek/.local/lib/python2.7/site-packages/sklearn/externals/joblib/parallel.py:268: DeprecationWarning: check_pickle is deprecated in joblib 0.12 and will be removed in 0.13\n",
      "  ' removed in 0.13', DeprecationWarning)\n",
      "/home/abhishek/.local/lib/python2.7/site-packages/sklearn/externals/joblib/parallel.py:268: DeprecationWarning: check_pickle is deprecated in joblib 0.12 and will be removed in 0.13\n",
      "  ' removed in 0.13', DeprecationWarning)\n",
      "/home/abhishek/.local/lib/python2.7/site-packages/sklearn/externals/joblib/parallel.py:268: DeprecationWarning: check_pickle is deprecated in joblib 0.12 and will be removed in 0.13\n",
      "  ' removed in 0.13', DeprecationWarning)\n",
      "/home/abhishek/.local/lib/python2.7/site-packages/sklearn/externals/joblib/parallel.py:268: DeprecationWarning: check_pickle is deprecated in joblib 0.12 and will be removed in 0.13\n",
      "  ' removed in 0.13', DeprecationWarning)\n",
      "/home/abhishek/.local/lib/python2.7/site-packages/sklearn/externals/joblib/parallel.py:268: DeprecationWarning: check_pickle is deprecated in joblib 0.12 and will be removed in 0.13\n",
      "  ' removed in 0.13', DeprecationWarning)\n",
      "/home/abhishek/.local/lib/python2.7/site-packages/sklearn/externals/joblib/parallel.py:268: DeprecationWarning: check_pickle is deprecated in joblib 0.12 and will be removed in 0.13\n",
      "  ' removed in 0.13', DeprecationWarning)\n",
      "/home/abhishek/.local/lib/python2.7/site-packages/sklearn/externals/joblib/parallel.py:268: DeprecationWarning: check_pickle is deprecated in joblib 0.12 and will be removed in 0.13\n",
      "  ' removed in 0.13', DeprecationWarning)\n",
      "/home/abhishek/.local/lib/python2.7/site-packages/sklearn/externals/joblib/parallel.py:268: DeprecationWarning: check_pickle is deprecated in joblib 0.12 and will be removed in 0.13\n",
      "  ' removed in 0.13', DeprecationWarning)\n",
      "/home/abhishek/.local/lib/python2.7/site-packages/sklearn/externals/joblib/parallel.py:268: DeprecationWarning: check_pickle is deprecated in joblib 0.12 and will be removed in 0.13\n",
      "  ' removed in 0.13', DeprecationWarning)\n",
      "/home/abhishek/.local/lib/python2.7/site-packages/sklearn/externals/joblib/parallel.py:268: DeprecationWarning: check_pickle is deprecated in joblib 0.12 and will be removed in 0.13\n",
      "  ' removed in 0.13', DeprecationWarning)\n",
      "/home/abhishek/.local/lib/python2.7/site-packages/sklearn/externals/joblib/parallel.py:268: DeprecationWarning: check_pickle is deprecated in joblib 0.12 and will be removed in 0.13\n",
      "  ' removed in 0.13', DeprecationWarning)\n",
      "/home/abhishek/.local/lib/python2.7/site-packages/sklearn/externals/joblib/parallel.py:268: DeprecationWarning: check_pickle is deprecated in joblib 0.12 and will be removed in 0.13\n",
      "  ' removed in 0.13', DeprecationWarning)\n",
      "/home/abhishek/.local/lib/python2.7/site-packages/sklearn/externals/joblib/parallel.py:268: DeprecationWarning: check_pickle is deprecated in joblib 0.12 and will be removed in 0.13\n",
      "  ' removed in 0.13', DeprecationWarning)\n",
      "/home/abhishek/.local/lib/python2.7/site-packages/sklearn/externals/joblib/parallel.py:268: DeprecationWarning: check_pickle is deprecated in joblib 0.12 and will be removed in 0.13\n",
      "  ' removed in 0.13', DeprecationWarning)\n",
      "/home/abhishek/.local/lib/python2.7/site-packages/sklearn/externals/joblib/parallel.py:268: DeprecationWarning: check_pickle is deprecated in joblib 0.12 and will be removed in 0.13\n",
      "  ' removed in 0.13', DeprecationWarning)\n",
      "/home/abhishek/.local/lib/python2.7/site-packages/sklearn/externals/joblib/parallel.py:268: DeprecationWarning: check_pickle is deprecated in joblib 0.12 and will be removed in 0.13\n",
      "  ' removed in 0.13', DeprecationWarning)\n",
      "/home/abhishek/.local/lib/python2.7/site-packages/sklearn/externals/joblib/parallel.py:268: DeprecationWarning: check_pickle is deprecated in joblib 0.12 and will be removed in 0.13\n",
      "  ' removed in 0.13', DeprecationWarning)\n",
      "/home/abhishek/.local/lib/python2.7/site-packages/sklearn/externals/joblib/parallel.py:268: DeprecationWarning: check_pickle is deprecated in joblib 0.12 and will be removed in 0.13\n",
      "  ' removed in 0.13', DeprecationWarning)\n",
      "/home/abhishek/.local/lib/python2.7/site-packages/sklearn/externals/joblib/parallel.py:268: DeprecationWarning: check_pickle is deprecated in joblib 0.12 and will be removed in 0.13\n",
      "  ' removed in 0.13', DeprecationWarning)\n"
     ]
    },
    {
     "name": "stderr",
     "output_type": "stream",
     "text": [
      "/home/abhishek/.local/lib/python2.7/site-packages/sklearn/externals/joblib/parallel.py:268: DeprecationWarning: check_pickle is deprecated in joblib 0.12 and will be removed in 0.13\n",
      "  ' removed in 0.13', DeprecationWarning)\n",
      "/home/abhishek/.local/lib/python2.7/site-packages/sklearn/externals/joblib/parallel.py:268: DeprecationWarning: check_pickle is deprecated in joblib 0.12 and will be removed in 0.13\n",
      "  ' removed in 0.13', DeprecationWarning)\n",
      "/home/abhishek/.local/lib/python2.7/site-packages/sklearn/externals/joblib/parallel.py:268: DeprecationWarning: check_pickle is deprecated in joblib 0.12 and will be removed in 0.13\n",
      "  ' removed in 0.13', DeprecationWarning)\n",
      "/home/abhishek/.local/lib/python2.7/site-packages/sklearn/externals/joblib/parallel.py:268: DeprecationWarning: check_pickle is deprecated in joblib 0.12 and will be removed in 0.13\n",
      "  ' removed in 0.13', DeprecationWarning)\n",
      "/home/abhishek/.local/lib/python2.7/site-packages/sklearn/externals/joblib/parallel.py:268: DeprecationWarning: check_pickle is deprecated in joblib 0.12 and will be removed in 0.13\n",
      "  ' removed in 0.13', DeprecationWarning)\n",
      "/home/abhishek/.local/lib/python2.7/site-packages/sklearn/externals/joblib/parallel.py:268: DeprecationWarning: check_pickle is deprecated in joblib 0.12 and will be removed in 0.13\n",
      "  ' removed in 0.13', DeprecationWarning)\n",
      "/home/abhishek/.local/lib/python2.7/site-packages/sklearn/externals/joblib/parallel.py:268: DeprecationWarning: check_pickle is deprecated in joblib 0.12 and will be removed in 0.13\n",
      "  ' removed in 0.13', DeprecationWarning)\n",
      "/home/abhishek/.local/lib/python2.7/site-packages/sklearn/externals/joblib/parallel.py:268: DeprecationWarning: check_pickle is deprecated in joblib 0.12 and will be removed in 0.13\n",
      "  ' removed in 0.13', DeprecationWarning)\n",
      "/home/abhishek/.local/lib/python2.7/site-packages/sklearn/externals/joblib/parallel.py:268: DeprecationWarning: check_pickle is deprecated in joblib 0.12 and will be removed in 0.13\n",
      "  ' removed in 0.13', DeprecationWarning)\n",
      "/home/abhishek/.local/lib/python2.7/site-packages/sklearn/externals/joblib/parallel.py:268: DeprecationWarning: check_pickle is deprecated in joblib 0.12 and will be removed in 0.13\n",
      "  ' removed in 0.13', DeprecationWarning)\n",
      "/home/abhishek/.local/lib/python2.7/site-packages/sklearn/externals/joblib/parallel.py:268: DeprecationWarning: check_pickle is deprecated in joblib 0.12 and will be removed in 0.13\n",
      "  ' removed in 0.13', DeprecationWarning)\n",
      "/home/abhishek/.local/lib/python2.7/site-packages/sklearn/externals/joblib/parallel.py:268: DeprecationWarning: check_pickle is deprecated in joblib 0.12 and will be removed in 0.13\n",
      "  ' removed in 0.13', DeprecationWarning)\n",
      "/home/abhishek/.local/lib/python2.7/site-packages/sklearn/externals/joblib/parallel.py:268: DeprecationWarning: check_pickle is deprecated in joblib 0.12 and will be removed in 0.13\n",
      "  ' removed in 0.13', DeprecationWarning)\n",
      "/home/abhishek/.local/lib/python2.7/site-packages/sklearn/externals/joblib/parallel.py:268: DeprecationWarning: check_pickle is deprecated in joblib 0.12 and will be removed in 0.13\n",
      "  ' removed in 0.13', DeprecationWarning)\n",
      "/home/abhishek/.local/lib/python2.7/site-packages/sklearn/externals/joblib/parallel.py:268: DeprecationWarning: check_pickle is deprecated in joblib 0.12 and will be removed in 0.13\n",
      "  ' removed in 0.13', DeprecationWarning)\n",
      "/home/abhishek/.local/lib/python2.7/site-packages/sklearn/externals/joblib/parallel.py:268: DeprecationWarning: check_pickle is deprecated in joblib 0.12 and will be removed in 0.13\n",
      "  ' removed in 0.13', DeprecationWarning)\n",
      "/home/abhishek/.local/lib/python2.7/site-packages/sklearn/externals/joblib/parallel.py:268: DeprecationWarning: check_pickle is deprecated in joblib 0.12 and will be removed in 0.13\n",
      "  ' removed in 0.13', DeprecationWarning)\n",
      "/home/abhishek/.local/lib/python2.7/site-packages/sklearn/externals/joblib/parallel.py:268: DeprecationWarning: check_pickle is deprecated in joblib 0.12 and will be removed in 0.13\n",
      "  ' removed in 0.13', DeprecationWarning)\n",
      "/home/abhishek/.local/lib/python2.7/site-packages/sklearn/externals/joblib/parallel.py:268: DeprecationWarning: check_pickle is deprecated in joblib 0.12 and will be removed in 0.13\n",
      "  ' removed in 0.13', DeprecationWarning)\n",
      "/home/abhishek/.local/lib/python2.7/site-packages/sklearn/externals/joblib/parallel.py:268: DeprecationWarning: check_pickle is deprecated in joblib 0.12 and will be removed in 0.13\n",
      "  ' removed in 0.13', DeprecationWarning)\n",
      "/home/abhishek/.local/lib/python2.7/site-packages/sklearn/externals/joblib/parallel.py:268: DeprecationWarning: check_pickle is deprecated in joblib 0.12 and will be removed in 0.13\n",
      "  ' removed in 0.13', DeprecationWarning)\n",
      "/home/abhishek/.local/lib/python2.7/site-packages/sklearn/externals/joblib/parallel.py:268: DeprecationWarning: check_pickle is deprecated in joblib 0.12 and will be removed in 0.13\n",
      "  ' removed in 0.13', DeprecationWarning)\n",
      "/home/abhishek/.local/lib/python2.7/site-packages/sklearn/externals/joblib/parallel.py:268: DeprecationWarning: check_pickle is deprecated in joblib 0.12 and will be removed in 0.13\n",
      "  ' removed in 0.13', DeprecationWarning)\n",
      "/home/abhishek/.local/lib/python2.7/site-packages/sklearn/externals/joblib/parallel.py:268: DeprecationWarning: check_pickle is deprecated in joblib 0.12 and will be removed in 0.13\n",
      "  ' removed in 0.13', DeprecationWarning)\n",
      "/home/abhishek/.local/lib/python2.7/site-packages/sklearn/externals/joblib/parallel.py:268: DeprecationWarning: check_pickle is deprecated in joblib 0.12 and will be removed in 0.13\n",
      "  ' removed in 0.13', DeprecationWarning)\n",
      "/home/abhishek/.local/lib/python2.7/site-packages/sklearn/externals/joblib/parallel.py:268: DeprecationWarning: check_pickle is deprecated in joblib 0.12 and will be removed in 0.13\n",
      "  ' removed in 0.13', DeprecationWarning)\n",
      "/home/abhishek/.local/lib/python2.7/site-packages/sklearn/externals/joblib/parallel.py:268: DeprecationWarning: check_pickle is deprecated in joblib 0.12 and will be removed in 0.13\n",
      "  ' removed in 0.13', DeprecationWarning)\n",
      "/home/abhishek/.local/lib/python2.7/site-packages/sklearn/externals/joblib/parallel.py:268: DeprecationWarning: check_pickle is deprecated in joblib 0.12 and will be removed in 0.13\n",
      "  ' removed in 0.13', DeprecationWarning)\n",
      "/home/abhishek/.local/lib/python2.7/site-packages/sklearn/externals/joblib/parallel.py:268: DeprecationWarning: check_pickle is deprecated in joblib 0.12 and will be removed in 0.13\n",
      "  ' removed in 0.13', DeprecationWarning)\n",
      "/home/abhishek/.local/lib/python2.7/site-packages/sklearn/externals/joblib/parallel.py:268: DeprecationWarning: check_pickle is deprecated in joblib 0.12 and will be removed in 0.13\n",
      "  ' removed in 0.13', DeprecationWarning)\n",
      "/home/abhishek/.local/lib/python2.7/site-packages/sklearn/externals/joblib/parallel.py:268: DeprecationWarning: check_pickle is deprecated in joblib 0.12 and will be removed in 0.13\n",
      "  ' removed in 0.13', DeprecationWarning)\n",
      "/home/abhishek/.local/lib/python2.7/site-packages/sklearn/externals/joblib/parallel.py:268: DeprecationWarning: check_pickle is deprecated in joblib 0.12 and will be removed in 0.13\n",
      "  ' removed in 0.13', DeprecationWarning)\n",
      "/home/abhishek/.local/lib/python2.7/site-packages/sklearn/externals/joblib/parallel.py:268: DeprecationWarning: check_pickle is deprecated in joblib 0.12 and will be removed in 0.13\n",
      "  ' removed in 0.13', DeprecationWarning)\n",
      "/home/abhishek/.local/lib/python2.7/site-packages/sklearn/externals/joblib/parallel.py:268: DeprecationWarning: check_pickle is deprecated in joblib 0.12 and will be removed in 0.13\n",
      "  ' removed in 0.13', DeprecationWarning)\n",
      "/home/abhishek/.local/lib/python2.7/site-packages/sklearn/externals/joblib/parallel.py:268: DeprecationWarning: check_pickle is deprecated in joblib 0.12 and will be removed in 0.13\n",
      "  ' removed in 0.13', DeprecationWarning)\n",
      "/home/abhishek/.local/lib/python2.7/site-packages/sklearn/externals/joblib/parallel.py:268: DeprecationWarning: check_pickle is deprecated in joblib 0.12 and will be removed in 0.13\n",
      "  ' removed in 0.13', DeprecationWarning)\n",
      "/home/abhishek/.local/lib/python2.7/site-packages/sklearn/externals/joblib/parallel.py:268: DeprecationWarning: check_pickle is deprecated in joblib 0.12 and will be removed in 0.13\n",
      "  ' removed in 0.13', DeprecationWarning)\n",
      "/home/abhishek/.local/lib/python2.7/site-packages/sklearn/externals/joblib/parallel.py:268: DeprecationWarning: check_pickle is deprecated in joblib 0.12 and will be removed in 0.13\n",
      "  ' removed in 0.13', DeprecationWarning)\n",
      "/home/abhishek/.local/lib/python2.7/site-packages/sklearn/externals/joblib/parallel.py:268: DeprecationWarning: check_pickle is deprecated in joblib 0.12 and will be removed in 0.13\n",
      "  ' removed in 0.13', DeprecationWarning)\n",
      "/home/abhishek/.local/lib/python2.7/site-packages/sklearn/externals/joblib/parallel.py:268: DeprecationWarning: check_pickle is deprecated in joblib 0.12 and will be removed in 0.13\n",
      "  ' removed in 0.13', DeprecationWarning)\n",
      "/home/abhishek/.local/lib/python2.7/site-packages/sklearn/externals/joblib/parallel.py:268: DeprecationWarning: check_pickle is deprecated in joblib 0.12 and will be removed in 0.13\n",
      "  ' removed in 0.13', DeprecationWarning)\n",
      "/home/abhishek/.local/lib/python2.7/site-packages/sklearn/externals/joblib/parallel.py:268: DeprecationWarning: check_pickle is deprecated in joblib 0.12 and will be removed in 0.13\n",
      "  ' removed in 0.13', DeprecationWarning)\n",
      "/home/abhishek/.local/lib/python2.7/site-packages/sklearn/externals/joblib/parallel.py:268: DeprecationWarning: check_pickle is deprecated in joblib 0.12 and will be removed in 0.13\n",
      "  ' removed in 0.13', DeprecationWarning)\n",
      "/home/abhishek/.local/lib/python2.7/site-packages/sklearn/externals/joblib/parallel.py:268: DeprecationWarning: check_pickle is deprecated in joblib 0.12 and will be removed in 0.13\n",
      "  ' removed in 0.13', DeprecationWarning)\n"
     ]
    },
    {
     "name": "stderr",
     "output_type": "stream",
     "text": [
      "/home/abhishek/.local/lib/python2.7/site-packages/sklearn/externals/joblib/parallel.py:268: DeprecationWarning: check_pickle is deprecated in joblib 0.12 and will be removed in 0.13\n",
      "  ' removed in 0.13', DeprecationWarning)\n",
      "/home/abhishek/.local/lib/python2.7/site-packages/sklearn/externals/joblib/parallel.py:268: DeprecationWarning: check_pickle is deprecated in joblib 0.12 and will be removed in 0.13\n",
      "  ' removed in 0.13', DeprecationWarning)\n",
      "/home/abhishek/.local/lib/python2.7/site-packages/sklearn/externals/joblib/parallel.py:268: DeprecationWarning: check_pickle is deprecated in joblib 0.12 and will be removed in 0.13\n",
      "  ' removed in 0.13', DeprecationWarning)\n",
      "/home/abhishek/.local/lib/python2.7/site-packages/sklearn/externals/joblib/parallel.py:268: DeprecationWarning: check_pickle is deprecated in joblib 0.12 and will be removed in 0.13\n",
      "  ' removed in 0.13', DeprecationWarning)\n",
      "/home/abhishek/.local/lib/python2.7/site-packages/sklearn/externals/joblib/parallel.py:268: DeprecationWarning: check_pickle is deprecated in joblib 0.12 and will be removed in 0.13\n",
      "  ' removed in 0.13', DeprecationWarning)\n",
      "/home/abhishek/.local/lib/python2.7/site-packages/sklearn/externals/joblib/parallel.py:268: DeprecationWarning: check_pickle is deprecated in joblib 0.12 and will be removed in 0.13\n",
      "  ' removed in 0.13', DeprecationWarning)\n",
      "/home/abhishek/.local/lib/python2.7/site-packages/sklearn/externals/joblib/parallel.py:268: DeprecationWarning: check_pickle is deprecated in joblib 0.12 and will be removed in 0.13\n",
      "  ' removed in 0.13', DeprecationWarning)\n",
      "/home/abhishek/.local/lib/python2.7/site-packages/sklearn/externals/joblib/parallel.py:268: DeprecationWarning: check_pickle is deprecated in joblib 0.12 and will be removed in 0.13\n",
      "  ' removed in 0.13', DeprecationWarning)\n",
      "/home/abhishek/.local/lib/python2.7/site-packages/sklearn/externals/joblib/parallel.py:268: DeprecationWarning: check_pickle is deprecated in joblib 0.12 and will be removed in 0.13\n",
      "  ' removed in 0.13', DeprecationWarning)\n",
      "/home/abhishek/.local/lib/python2.7/site-packages/sklearn/externals/joblib/parallel.py:268: DeprecationWarning: check_pickle is deprecated in joblib 0.12 and will be removed in 0.13\n",
      "  ' removed in 0.13', DeprecationWarning)\n",
      "/home/abhishek/.local/lib/python2.7/site-packages/sklearn/externals/joblib/parallel.py:268: DeprecationWarning: check_pickle is deprecated in joblib 0.12 and will be removed in 0.13\n",
      "  ' removed in 0.13', DeprecationWarning)\n",
      "/home/abhishek/.local/lib/python2.7/site-packages/sklearn/externals/joblib/parallel.py:268: DeprecationWarning: check_pickle is deprecated in joblib 0.12 and will be removed in 0.13\n",
      "  ' removed in 0.13', DeprecationWarning)\n",
      "/home/abhishek/.local/lib/python2.7/site-packages/sklearn/externals/joblib/parallel.py:268: DeprecationWarning: check_pickle is deprecated in joblib 0.12 and will be removed in 0.13\n",
      "  ' removed in 0.13', DeprecationWarning)\n",
      "/home/abhishek/.local/lib/python2.7/site-packages/sklearn/externals/joblib/parallel.py:268: DeprecationWarning: check_pickle is deprecated in joblib 0.12 and will be removed in 0.13\n",
      "  ' removed in 0.13', DeprecationWarning)\n",
      "/home/abhishek/.local/lib/python2.7/site-packages/sklearn/externals/joblib/parallel.py:268: DeprecationWarning: check_pickle is deprecated in joblib 0.12 and will be removed in 0.13\n",
      "  ' removed in 0.13', DeprecationWarning)\n",
      "/home/abhishek/.local/lib/python2.7/site-packages/sklearn/externals/joblib/parallel.py:268: DeprecationWarning: check_pickle is deprecated in joblib 0.12 and will be removed in 0.13\n",
      "  ' removed in 0.13', DeprecationWarning)\n",
      "/home/abhishek/.local/lib/python2.7/site-packages/sklearn/externals/joblib/parallel.py:268: DeprecationWarning: check_pickle is deprecated in joblib 0.12 and will be removed in 0.13\n",
      "  ' removed in 0.13', DeprecationWarning)\n",
      "/home/abhishek/.local/lib/python2.7/site-packages/sklearn/externals/joblib/parallel.py:268: DeprecationWarning: check_pickle is deprecated in joblib 0.12 and will be removed in 0.13\n",
      "  ' removed in 0.13', DeprecationWarning)\n",
      "/home/abhishek/.local/lib/python2.7/site-packages/sklearn/externals/joblib/parallel.py:268: DeprecationWarning: check_pickle is deprecated in joblib 0.12 and will be removed in 0.13\n",
      "  ' removed in 0.13', DeprecationWarning)\n",
      "/home/abhishek/.local/lib/python2.7/site-packages/sklearn/externals/joblib/parallel.py:268: DeprecationWarning: check_pickle is deprecated in joblib 0.12 and will be removed in 0.13\n",
      "  ' removed in 0.13', DeprecationWarning)\n",
      "/home/abhishek/.local/lib/python2.7/site-packages/sklearn/externals/joblib/parallel.py:268: DeprecationWarning: check_pickle is deprecated in joblib 0.12 and will be removed in 0.13\n",
      "  ' removed in 0.13', DeprecationWarning)\n",
      "/home/abhishek/.local/lib/python2.7/site-packages/sklearn/externals/joblib/parallel.py:268: DeprecationWarning: check_pickle is deprecated in joblib 0.12 and will be removed in 0.13\n",
      "  ' removed in 0.13', DeprecationWarning)\n",
      "/home/abhishek/.local/lib/python2.7/site-packages/sklearn/externals/joblib/parallel.py:268: DeprecationWarning: check_pickle is deprecated in joblib 0.12 and will be removed in 0.13\n",
      "  ' removed in 0.13', DeprecationWarning)\n",
      "/home/abhishek/.local/lib/python2.7/site-packages/sklearn/externals/joblib/parallel.py:268: DeprecationWarning: check_pickle is deprecated in joblib 0.12 and will be removed in 0.13\n",
      "  ' removed in 0.13', DeprecationWarning)\n",
      "/home/abhishek/.local/lib/python2.7/site-packages/sklearn/externals/joblib/parallel.py:268: DeprecationWarning: check_pickle is deprecated in joblib 0.12 and will be removed in 0.13\n",
      "  ' removed in 0.13', DeprecationWarning)\n",
      "/home/abhishek/.local/lib/python2.7/site-packages/sklearn/externals/joblib/parallel.py:268: DeprecationWarning: check_pickle is deprecated in joblib 0.12 and will be removed in 0.13\n",
      "  ' removed in 0.13', DeprecationWarning)\n",
      "/home/abhishek/.local/lib/python2.7/site-packages/sklearn/externals/joblib/parallel.py:268: DeprecationWarning: check_pickle is deprecated in joblib 0.12 and will be removed in 0.13\n",
      "  ' removed in 0.13', DeprecationWarning)\n",
      "/home/abhishek/.local/lib/python2.7/site-packages/sklearn/externals/joblib/parallel.py:268: DeprecationWarning: check_pickle is deprecated in joblib 0.12 and will be removed in 0.13\n",
      "  ' removed in 0.13', DeprecationWarning)\n",
      "/home/abhishek/.local/lib/python2.7/site-packages/sklearn/externals/joblib/parallel.py:268: DeprecationWarning: check_pickle is deprecated in joblib 0.12 and will be removed in 0.13\n",
      "  ' removed in 0.13', DeprecationWarning)\n",
      "/home/abhishek/.local/lib/python2.7/site-packages/sklearn/externals/joblib/parallel.py:268: DeprecationWarning: check_pickle is deprecated in joblib 0.12 and will be removed in 0.13\n",
      "  ' removed in 0.13', DeprecationWarning)\n",
      "/home/abhishek/.local/lib/python2.7/site-packages/sklearn/externals/joblib/parallel.py:268: DeprecationWarning: check_pickle is deprecated in joblib 0.12 and will be removed in 0.13\n",
      "  ' removed in 0.13', DeprecationWarning)\n",
      "/home/abhishek/.local/lib/python2.7/site-packages/sklearn/externals/joblib/parallel.py:268: DeprecationWarning: check_pickle is deprecated in joblib 0.12 and will be removed in 0.13\n",
      "  ' removed in 0.13', DeprecationWarning)\n",
      "/home/abhishek/.local/lib/python2.7/site-packages/sklearn/externals/joblib/parallel.py:268: DeprecationWarning: check_pickle is deprecated in joblib 0.12 and will be removed in 0.13\n",
      "  ' removed in 0.13', DeprecationWarning)\n",
      "/home/abhishek/.local/lib/python2.7/site-packages/sklearn/externals/joblib/parallel.py:268: DeprecationWarning: check_pickle is deprecated in joblib 0.12 and will be removed in 0.13\n",
      "  ' removed in 0.13', DeprecationWarning)\n",
      "/home/abhishek/.local/lib/python2.7/site-packages/sklearn/externals/joblib/parallel.py:268: DeprecationWarning: check_pickle is deprecated in joblib 0.12 and will be removed in 0.13\n",
      "  ' removed in 0.13', DeprecationWarning)\n",
      "/home/abhishek/.local/lib/python2.7/site-packages/sklearn/externals/joblib/parallel.py:268: DeprecationWarning: check_pickle is deprecated in joblib 0.12 and will be removed in 0.13\n",
      "  ' removed in 0.13', DeprecationWarning)\n",
      "/home/abhishek/.local/lib/python2.7/site-packages/sklearn/externals/joblib/parallel.py:268: DeprecationWarning: check_pickle is deprecated in joblib 0.12 and will be removed in 0.13\n",
      "  ' removed in 0.13', DeprecationWarning)\n",
      "/home/abhishek/.local/lib/python2.7/site-packages/sklearn/externals/joblib/parallel.py:268: DeprecationWarning: check_pickle is deprecated in joblib 0.12 and will be removed in 0.13\n",
      "  ' removed in 0.13', DeprecationWarning)\n",
      "/home/abhishek/.local/lib/python2.7/site-packages/sklearn/externals/joblib/parallel.py:268: DeprecationWarning: check_pickle is deprecated in joblib 0.12 and will be removed in 0.13\n",
      "  ' removed in 0.13', DeprecationWarning)\n",
      "/home/abhishek/.local/lib/python2.7/site-packages/sklearn/externals/joblib/parallel.py:268: DeprecationWarning: check_pickle is deprecated in joblib 0.12 and will be removed in 0.13\n",
      "  ' removed in 0.13', DeprecationWarning)\n"
     ]
    },
    {
     "name": "stderr",
     "output_type": "stream",
     "text": [
      "/home/abhishek/.local/lib/python2.7/site-packages/sklearn/externals/joblib/parallel.py:268: DeprecationWarning: check_pickle is deprecated in joblib 0.12 and will be removed in 0.13\n",
      "  ' removed in 0.13', DeprecationWarning)\n",
      "/home/abhishek/.local/lib/python2.7/site-packages/sklearn/externals/joblib/parallel.py:268: DeprecationWarning: check_pickle is deprecated in joblib 0.12 and will be removed in 0.13\n",
      "  ' removed in 0.13', DeprecationWarning)\n",
      "/home/abhishek/.local/lib/python2.7/site-packages/sklearn/externals/joblib/parallel.py:268: DeprecationWarning: check_pickle is deprecated in joblib 0.12 and will be removed in 0.13\n",
      "  ' removed in 0.13', DeprecationWarning)\n",
      "/home/abhishek/.local/lib/python2.7/site-packages/sklearn/externals/joblib/parallel.py:268: DeprecationWarning: check_pickle is deprecated in joblib 0.12 and will be removed in 0.13\n",
      "  ' removed in 0.13', DeprecationWarning)\n",
      "/home/abhishek/.local/lib/python2.7/site-packages/sklearn/externals/joblib/parallel.py:268: DeprecationWarning: check_pickle is deprecated in joblib 0.12 and will be removed in 0.13\n",
      "  ' removed in 0.13', DeprecationWarning)\n",
      "/home/abhishek/.local/lib/python2.7/site-packages/sklearn/externals/joblib/parallel.py:268: DeprecationWarning: check_pickle is deprecated in joblib 0.12 and will be removed in 0.13\n",
      "  ' removed in 0.13', DeprecationWarning)\n",
      "/home/abhishek/.local/lib/python2.7/site-packages/sklearn/externals/joblib/parallel.py:268: DeprecationWarning: check_pickle is deprecated in joblib 0.12 and will be removed in 0.13\n",
      "  ' removed in 0.13', DeprecationWarning)\n",
      "/home/abhishek/.local/lib/python2.7/site-packages/sklearn/externals/joblib/parallel.py:268: DeprecationWarning: check_pickle is deprecated in joblib 0.12 and will be removed in 0.13\n",
      "  ' removed in 0.13', DeprecationWarning)\n",
      "/home/abhishek/.local/lib/python2.7/site-packages/sklearn/externals/joblib/parallel.py:268: DeprecationWarning: check_pickle is deprecated in joblib 0.12 and will be removed in 0.13\n",
      "  ' removed in 0.13', DeprecationWarning)\n",
      "/home/abhishek/.local/lib/python2.7/site-packages/sklearn/externals/joblib/parallel.py:268: DeprecationWarning: check_pickle is deprecated in joblib 0.12 and will be removed in 0.13\n",
      "  ' removed in 0.13', DeprecationWarning)\n",
      "/home/abhishek/.local/lib/python2.7/site-packages/sklearn/externals/joblib/parallel.py:268: DeprecationWarning: check_pickle is deprecated in joblib 0.12 and will be removed in 0.13\n",
      "  ' removed in 0.13', DeprecationWarning)\n",
      "/home/abhishek/.local/lib/python2.7/site-packages/sklearn/externals/joblib/parallel.py:268: DeprecationWarning: check_pickle is deprecated in joblib 0.12 and will be removed in 0.13\n",
      "  ' removed in 0.13', DeprecationWarning)\n",
      "/home/abhishek/.local/lib/python2.7/site-packages/sklearn/externals/joblib/parallel.py:268: DeprecationWarning: check_pickle is deprecated in joblib 0.12 and will be removed in 0.13\n",
      "  ' removed in 0.13', DeprecationWarning)\n",
      "/home/abhishek/.local/lib/python2.7/site-packages/sklearn/externals/joblib/parallel.py:268: DeprecationWarning: check_pickle is deprecated in joblib 0.12 and will be removed in 0.13\n",
      "  ' removed in 0.13', DeprecationWarning)\n",
      "/home/abhishek/.local/lib/python2.7/site-packages/sklearn/model_selection/_search.py:841: DeprecationWarning: The default of the `iid` parameter will change from True to False in version 0.22 and will be removed in 0.24. This will change numeric results when test-set sizes are unequal.\n",
      "  DeprecationWarning)\n"
     ]
    },
    {
     "data": {
      "text/plain": [
       "GridSearchCV(cv=5, error_score='raise-deprecating',\n",
       "       estimator=KNeighborsClassifier(algorithm='auto', leaf_size=30, metric='minkowski',\n",
       "           metric_params=None, n_jobs=None, n_neighbors=5, p=2,\n",
       "           weights='uniform'),\n",
       "       fit_params=None, iid='warn', n_jobs=None,\n",
       "       param_grid={'n_neighbors': array([ 1,  2,  3,  4,  5,  6,  7,  8,  9, 10, 11, 12, 13, 14, 15, 16, 17,\n",
       "       18, 19, 20, 21, 22, 23, 24])},\n",
       "       pre_dispatch='2*n_jobs', refit=True, return_train_score='warn',\n",
       "       scoring=None, verbose=0)"
      ]
     },
     "execution_count": 28,
     "metadata": {},
     "output_type": "execute_result"
    }
   ],
   "source": [
    "#create a dictionary of all values we want to test for n_neighbors\n",
    "param_grid = {\"n_neighbors\": np.arange(1, 25)}\n",
    "#use gridsearch to test all values for n_neighbors\n",
    "knn_gscv = GridSearchCV(knn2, param_grid, cv=5)\n",
    "\n",
    "#fit model to data\n",
    "knn_gscv.fit(X, y)"
   ]
  },
  {
   "cell_type": "code",
   "execution_count": 29,
   "metadata": {},
   "outputs": [
    {
     "data": {
      "text/plain": [
       "{'n_neighbors': 5}"
      ]
     },
     "execution_count": 29,
     "metadata": {},
     "output_type": "execute_result"
    }
   ],
   "source": [
    "#check top performing n_neighbors value\n",
    "knn_gscv.best_params_"
   ]
  },
  {
   "cell_type": "code",
   "execution_count": 30,
   "metadata": {},
   "outputs": [
    {
     "data": {
      "text/plain": [
       "0.9367311072056239"
      ]
     },
     "execution_count": 30,
     "metadata": {},
     "output_type": "execute_result"
    }
   ],
   "source": [
    "#check mean score for the top performing value of n_neighbors\n",
    "knn_gscv.best_score_"
   ]
  },
  {
   "cell_type": "code",
   "execution_count": 102,
   "metadata": {},
   "outputs": [
    {
     "name": "stdout",
     "output_type": "stream",
     "text": [
      "[0.       0.890625 1.      ]\n",
      "0.9266209112149533\n"
     ]
    }
   ],
   "source": [
    "s1 = pd.Series(y_test)\n",
    "y_true = np.array(y_test)\n",
    "y_true = s1.map({'B':0, 'M':1}) #This mapping is done because ROC_Curve expects us to give one value a positive label eg. 1 for positive and other gets automatically assigned as negative which is 0.\n",
    "s2 = pd.Series(y_pred)\n",
    "y_scores = np.array(y_pred)\n",
    "y_scores = s2.map({'B':0, 'M':1})\n",
    "fpr, tpr, threshold = metrics.roc_curve(y_true, y_scores)\n",
    "print(tpr)\n",
    "roc_auc = metrics.auc(fpr, tpr)\n",
    "print(roc_auc) #Computes the area under the curve."
   ]
  },
  {
   "cell_type": "code",
   "execution_count": 103,
   "metadata": {},
   "outputs": [
    {
     "data": {
      "image/png": "[encoded data removed]",
      "text/plain": [
       "<Figure size 432x288 with 1 Axes>"
      ]
     },
     "metadata": {
      "needs_background": "light"
     },
     "output_type": "display_data"
    }
   ],
   "source": [
    "plt.title('Receiver Operating Characteristic')\n",
    "plt.plot(fpr, tpr, 'b', label = 'AUC = %0.2f' % roc_auc)\n",
    "plt.legend(loc = 'lower right')\n",
    "plt.plot([0, 1], [0, 1],'r--')\n",
    "plt.xlim([0, 1])\n",
    "plt.ylim([0, 1])\n",
    "plt.ylabel('True Positive Rate')\n",
    "plt.xlabel('False Positive Rate')\n",
    "plt.show()\n",
    "#We evaluate different models through ROC Curve. The more the Blue line is near the top left corner the more accurate is the model.\n"
   ]
  },
  {
   "cell_type": "code",
   "execution_count": null,
   "metadata": {},
   "outputs": [],
   "source": []
  }
 ],
 "metadata": {
  "kernelspec": {
   "display_name": "Python 3",
   "language": "python",
   "name": "python3"
  },
  "language_info": {
   "codemirror_mode": {
    "name": "ipython",
    "version": 2
   },
   "file_extension": ".py",
   "mimetype": "text/x-python",
   "name": "python",
   "nbconvert_exporter": "python",
   "pygments_lexer": "ipython2",
   "version": "2.7.15"
  }
 },
 "nbformat": 4,
 "nbformat_minor": 2
}
