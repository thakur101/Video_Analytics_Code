{
 "cells": [
  {
   "cell_type": "code",
   "execution_count": 1,
   "metadata": {},
   "outputs": [],
   "source": [
    "import numpy as np\n",
    "import pandas as pd\n",
    "import math  \n",
    "from sklearn.metrics import r2_score,mean_squared_error\n",
    "from scipy import stats\n",
    "import seaborn as sns\n",
    "import statsmodels.formula.api as smf\n",
    "from sklearn.linear_model import LinearRegression \n",
    "from sklearn.model_selection import train_test_split\n",
    "import matplotlib.pyplot as plt\n",
    "from collections import Counter"
   ]
  },
  {
   "cell_type": "code",
   "execution_count": 2,
   "metadata": {},
   "outputs": [],
   "source": [
    "df = pd.read_csv('drug2.csv')\n",
    "df['DS_combo']= df.dose * df.sex\n",
    "df1 = df.copy(deep=True)\n",
    "#print (df)\n",
    "df_train,df_test = train_test_split(df1, test_size=0.2)\n",
    "df1_train,df1_test = train_test_split(df1, test_size=0.3)"
   ]
  },
  {
   "cell_type": "code",
   "execution_count": 3,
   "metadata": {},
   "outputs": [
    {
     "name": "stdout",
     "output_type": "stream",
     "text": [
      "0.9992531630720963\n",
      "('R^2 Value is :', 0.9992234860174416)\n"
     ]
    }
   ],
   "source": [
    "clf = LinearRegression(normalize=True)\n",
    "X = df_train[['dose','sex','DS_combo']]\n",
    "y = df_train['response']\n",
    "clf.fit(X,y)\n",
    "score = clf.score(X,y) #To calculate R Square value.\n",
    "print (score)#THis also is a R square value.\n",
    "\n",
    "y_pred = clf.predict(df_test[['dose','sex','DS_combo']])\n",
    "#print (y_pred)\n",
    "r2_value = r2_score(df_test['response'],y_pred)\n",
    "print ('R^2 Value is :',r2_value) # Another approach to calculate R square value."
   ]
  },
  {
   "cell_type": "code",
   "execution_count": 22,
   "metadata": {},
   "outputs": [
    {
     "name": "stdout",
     "output_type": "stream",
     "text": [
      "Intercept     4.785738\n",
      "dose          2.941714\n",
      "sex           4.935299\n",
      "DS_combo     24.120643\n",
      "dtype: float64\n",
      "                            OLS Regression Results                            \n",
      "==============================================================================\n",
      "Dep. Variable:               response   R-squared:                       0.999\n",
      "Model:                            OLS   Adj. R-squared:                  0.999\n",
      "Method:                 Least Squares   F-statistic:                 1.415e+06\n",
      "Date:                Wed, 20 Feb 2019   Prob (F-statistic):               0.00\n",
      "Time:                        16:58:24   Log-Likelihood:                -7223.6\n",
      "No. Observations:                3200   AIC:                         1.446e+04\n",
      "Df Residuals:                    3196   BIC:                         1.448e+04\n",
      "Df Model:                           3                                         \n",
      "Covariance Type:            nonrobust                                         \n",
      "==============================================================================\n",
      "                 coef    std err          t      P>|t|      [0.025      0.975]\n",
      "------------------------------------------------------------------------------\n",
      "Intercept      4.7857      0.117     41.050      0.000       4.557       5.014\n",
      "dose           2.9417      0.020    146.774      0.000       2.902       2.981\n",
      "sex            4.9353      0.165     29.934      0.000       4.612       5.259\n",
      "DS_combo      24.1206      0.028    850.984      0.000      24.065      24.176\n",
      "==============================================================================\n",
      "Omnibus:                        3.731   Durbin-Watson:                   2.068\n",
      "Prob(Omnibus):                  0.155   Jarque-Bera (JB):                3.778\n",
      "Skew:                          -0.081   Prob(JB):                        0.151\n",
      "Kurtosis:                       2.953   Cond. No.                         31.4\n",
      "==============================================================================\n",
      "\n",
      "Warnings:\n",
      "[1] Standard Errors assume that the covariance matrix of the errors is correctly specified.\n"
     ]
    }
   ],
   "source": [
    "result=smf.ols(formula=\"response ~ dose+sex+DS_combo\", data=df).fit()\n",
    "print (result.params)\n",
    "print (result.summary())"
   ]
  },
  {
   "cell_type": "code",
   "execution_count": 5,
   "metadata": {},
   "outputs": [
    {
     "name": "stdout",
     "output_type": "stream",
     "text": [
      "[[277.86       261.62        94.28       ... 113.03        44.61\n",
      "  120.97      ]\n",
      " [280.30868739 264.07431227  90.90764429 ... 112.55347779  47.6159773\n",
      "  117.96493616]\n",
      " [ -2.44868739  -2.45431227   3.37235571 ...   0.47652221  -3.0059773\n",
      "    3.00506384]]\n"
     ]
    }
   ],
   "source": [
    "data = np.array([df_test['response'],y_pred,np.subtract(df_test['response'],y_pred)])\n",
    "print (data)"
   ]
  },
  {
   "cell_type": "code",
   "execution_count": 6,
   "metadata": {},
   "outputs": [],
   "source": [
    "dataset = pd.DataFrame({'resp_test':data[0,:],'y_pred':data[1,:],'Error':data[2,:]})\n",
    "#print(dataset)\n",
    "#dataset['stan_error']=dataset['Error']\n",
    "#dataset['stan_error']=((dataset['stan_error']-dataset['stan_error'].mean())/dataset['stan_error'].std())"
   ]
  },
  {
   "cell_type": "code",
   "execution_count": 7,
   "metadata": {},
   "outputs": [
    {
     "data": {
      "text/plain": [
       "<matplotlib.collections.PathCollection at 0x7f0956628910>"
      ]
     },
     "execution_count": 7,
     "metadata": {},
     "output_type": "execute_result"
    },
    {
     "data": {
      "image/png": "[encoded data removed]",
      "text/plain": [
       "<Figure size 432x288 with 1 Axes>"
      ]
     },
     "metadata": {
      "needs_background": "light"
     },
     "output_type": "display_data"
    }
   ],
   "source": [
    "plt.scatter(df_train['dose']+df_train['sex']+df_train['DS_combo'],y)\n",
    "plt.scatter(df_test['sex']+df_test['dose']+df_test['DS_combo'], y_pred) #Largely fitting model over our data distribution."
   ]
  },
  {
   "cell_type": "code",
   "execution_count": 8,
   "metadata": {},
   "outputs": [
    {
     "name": "stderr",
     "output_type": "stream",
     "text": [
      "/home/abhishek/anaconda2/lib/python2.7/site-packages/matplotlib/axes/_axes.py:6571: UserWarning: The 'normed' kwarg is deprecated, and has been replaced by the 'density' kwarg.\n",
      "  warnings.warn(\"The 'normed' kwarg is deprecated, and has been \"\n"
     ]
    },
    {
     "data": {
      "text/plain": [
       "Text(0.5,0,'Range of error')"
      ]
     },
     "execution_count": 8,
     "metadata": {},
     "output_type": "execute_result"
    },
    {
     "data": {
      "image/png": "[encoded data removed]",
      "text/plain": [
       "<Figure size 432x288 with 1 Axes>"
      ]
     },
     "metadata": {
      "needs_background": "light"
     },
     "output_type": "display_data"
    }
   ],
   "source": [
    "plt.hist(np.asarray(dataset['Error'], dtype='float'), bins=100, normed=True) #plot of frequency of errors vs range of errors.\n",
    "plt.ylabel('Frequency of Error');\n",
    "plt.xlabel('Range of error') #THese are the errors divided into bins of approx. equal sizes."
   ]
  },
  {
   "cell_type": "code",
   "execution_count": 9,
   "metadata": {},
   "outputs": [
    {
     "data": {
      "text/plain": [
       "<matplotlib.collections.PathCollection at 0x7f0956365c90>"
      ]
     },
     "execution_count": 9,
     "metadata": {},
     "output_type": "execute_result"
    },
    {
     "data": {
      "image/png": "[encoded data removed]",
      "text/plain": [
       "<Figure size 432x288 with 1 Axes>"
      ]
     },
     "metadata": {
      "needs_background": "light"
     },
     "output_type": "display_data"
    }
   ],
   "source": [
    "plt.scatter(df_test['response'], y_pred) #Pre"
   ]
  },
  {
   "cell_type": "code",
   "execution_count": 11,
   "metadata": {},
   "outputs": [
    {
     "name": "stdout",
     "output_type": "stream",
     "text": [
      "5.524502922161547\n"
     ]
    }
   ],
   "source": [
    "rmse = mean_squared_error(df_test['response'], y_pred)\n",
    "print (rmse)#Print the RMSE for fiorst split."
   ]
  },
  {
   "cell_type": "code",
   "execution_count": 13,
   "metadata": {},
   "outputs": [
    {
     "name": "stdout",
     "output_type": "stream",
     "text": [
      "0.9992515212057174\n",
      "('R^2 Value is :', 0.9992347002807783)\n"
     ]
    }
   ],
   "source": [
    "clf2 = LinearRegression(normalize=True)\n",
    "X2 = df1_train[['dose','sex','DS_combo']]\n",
    "y2 = df1_train['response']\n",
    "clf2.fit(X2,y2)\n",
    "score = clf2.score(X2,y2) #To calculate R Square value.\n",
    "print (score)#THis also is a R square value.\n",
    "\n",
    "y_pred2 = clf2.predict(df1_test[['dose','sex','DS_combo']])\n",
    "#print (y_pred)\n",
    "r2_value_2 = r2_score(df1_test['response'],y_pred2)\n",
    "print ('R^2 Value is :',r2_value_2) # Another approach to calculate R square value."
   ]
  },
  {
   "cell_type": "code",
   "execution_count": 14,
   "metadata": {},
   "outputs": [
    {
     "name": "stdout",
     "output_type": "stream",
     "text": [
      "5.595009461431675\n"
     ]
    }
   ],
   "source": [
    "rmse2 = mean_squared_error(df1_test['response'], y_pred2)\n",
    "print (rmse2)#Print RMSE for second train, test split."
   ]
  },
  {
   "cell_type": "code",
   "execution_count": 16,
   "metadata": {},
   "outputs": [
    {
     "name": "stdout",
     "output_type": "stream",
     "text": [
      "Intercept     4.785738\n",
      "dose          2.941714\n",
      "sex           4.935299\n",
      "DS_combo     24.120643\n",
      "dtype: float64\n"
     ]
    }
   ],
   "source": [
    "result2=smf.ols(formula=\"response ~ dose+sex+DS_combo\", data=df1).fit()\n",
    "print (result2.params)\n",
    "#print (result2.summary())"
   ]
  },
  {
   "cell_type": "code",
   "execution_count": 18,
   "metadata": {},
   "outputs": [
    {
     "name": "stdout",
     "output_type": "stream",
     "text": [
      "[[ 1.54900000e+01  2.29050000e+02  4.52600000e+01 ...  1.88440000e+02\n",
      "   1.61290000e+02  9.14000000e+00]\n",
      " [ 1.31875925e+01  2.26210623e+02  5.02876425e+01 ...  1.88319520e+02\n",
      "   1.61254446e+02  9.62385884e+00]\n",
      " [ 2.30240753e+00  2.83937656e+00 -5.02764248e+00 ...  1.20480155e-01\n",
      "   3.55541488e-02 -4.83858843e-01]]\n"
     ]
    }
   ],
   "source": [
    "data2 = np.array([df1_test['response'],y_pred2,np.subtract(df1_test['response'],y_pred2)])\n",
    "print (data2)"
   ]
  },
  {
   "cell_type": "code",
   "execution_count": 19,
   "metadata": {},
   "outputs": [],
   "source": [
    "dataset2 = pd.DataFrame({'resp_test':data2[0,:],'y_pred':data2[1,:],'Error':data2[2,:]})"
   ]
  },
  {
   "cell_type": "code",
   "execution_count": 20,
   "metadata": {},
   "outputs": [
    {
     "data": {
      "text/plain": [
       "<matplotlib.collections.PathCollection at 0x7f095625a390>"
      ]
     },
     "execution_count": 20,
     "metadata": {},
     "output_type": "execute_result"
    },
    {
     "data": {
      "image/png": "[encoded data removed]",
      "text/plain": [
       "<Figure size 432x288 with 1 Axes>"
      ]
     },
     "metadata": {
      "needs_background": "light"
     },
     "output_type": "display_data"
    }
   ],
   "source": [
    "plt.scatter(df1_train['dose']+df1_train['sex']+df1_train['DS_combo'],y2)\n",
    "plt.scatter(df1_test['sex']+df1_test['dose']+df1_test['DS_combo'], y_pred2)"
   ]
  },
  {
   "cell_type": "code",
   "execution_count": 21,
   "metadata": {},
   "outputs": [
    {
     "name": "stderr",
     "output_type": "stream",
     "text": [
      "/home/abhishek/anaconda2/lib/python2.7/site-packages/matplotlib/axes/_axes.py:6571: UserWarning: The 'normed' kwarg is deprecated, and has been replaced by the 'density' kwarg.\n",
      "  warnings.warn(\"The 'normed' kwarg is deprecated, and has been \"\n"
     ]
    },
    {
     "data": {
      "text/plain": [
       "Text(0.5,0,'Range of error')"
      ]
     },
     "execution_count": 21,
     "metadata": {},
     "output_type": "execute_result"
    },
    {
     "data": {
      "image/png": "[encoded data removed]",
      "text/plain": [
       "<Figure size 432x288 with 1 Axes>"
      ]
     },
     "metadata": {
      "needs_background": "light"
     },
     "output_type": "display_data"
    }
   ],
   "source": [
    "plt.hist(np.asarray(dataset2['Error'], dtype='float'), bins=100, normed=True) #plot of frequency of errors vs range of errors.\n",
    "plt.ylabel('Frequency of Error');\n",
    "plt.xlabel('Range of error') #THese are the errors divided into bins of approx. equal sizes."
   ]
  },
  {
   "cell_type": "code",
   "execution_count": null,
   "metadata": {},
   "outputs": [],
   "source": []
  }
 ],
 "metadata": {
  "kernelspec": {
   "display_name": "Python 3",
   "language": "python",
   "name": "python3"
  },
  "language_info": {
   "codemirror_mode": {
    "name": "ipython",
    "version": 2
   },
   "file_extension": ".py",
   "mimetype": "text/x-python",
   "name": "python",
   "nbconvert_exporter": "python",
   "pygments_lexer": "ipython2",
   "version": "2.7.15"
  }
 },
 "nbformat": 4,
 "nbformat_minor": 2
}
