{
 "cells": [
  {
   "cell_type": "code",
   "execution_count": 1,
   "metadata": {},
   "outputs": [],
   "source": [
    "import numpy as np\n",
    "import pandas as pd\n",
    "import seaborn as sns\n",
    "%matplotlib inline\n",
    "import statsmodels.api as sm\n",
    "from matplotlib import pyplot as plt\n",
    "import statsmodels.formula.api as smf\n",
    "from sklearn.metrics import confusion_matrix\n",
    "from sklearn.linear_model import LogisticRegression\n",
    "from sklearn.model_selection import train_test_split"
   ]
  },
  {
   "cell_type": "code",
   "execution_count": 2,
   "metadata": {},
   "outputs": [],
   "source": [
    "#sys - systolic \n",
    "#po2 - partial pressure of oxygen\n",
    "#fra - fragile\n",
    "#bic - Bayesian Information Criterion, Brain Imaging Center\n",
    "#cre - a family of germs\n",
    "#loc - level of consciousness"
   ]
  },
  {
   "cell_type": "code",
   "execution_count": 3,
   "metadata": {},
   "outputs": [],
   "source": [
    "df = pd.read_csv('icu.csv')\n",
    "df.rename(columns={'loc':'lackoc'}, inplace=True)"
   ]
  },
  {
   "cell_type": "code",
   "execution_count": 7,
   "metadata": {},
   "outputs": [
    {
     "data": {
      "text/plain": [
       "Index([u'Unnamed: 0', u'sta', u'age', u'sex', u'race', u'ser', u'can', u'crn',\n",
       "       u'inf', u'cpr', u'sys', u'hra', u'pre', u'typ', u'fra', u'Unnamed: 14',\n",
       "       u'po2', u'Unnamed: 16', u'ph', u'pco', u'bic', u'cre', u'lackoc',\n",
       "       u'Unnamed: 22', u'Unnamed: 23'],\n",
       "      dtype='object')"
      ]
     },
     "execution_count": 7,
     "metadata": {},
     "output_type": "execute_result"
    }
   ],
   "source": [
    "df.columns"
   ]
  },
  {
   "cell_type": "code",
   "execution_count": 8,
   "metadata": {},
   "outputs": [],
   "source": [
    "df = df.drop(['Unnamed: 22','Unnamed: 23'],axis=1)"
   ]
  },
  {
   "cell_type": "code",
   "execution_count": 11,
   "metadata": {},
   "outputs": [
    {
     "data": {
      "image/png": "[encoded data removed]",
      "text/plain": [
       "<Figure size 432x288 with 1 Axes>"
      ]
     },
     "metadata": {
      "needs_background": "light"
     },
     "output_type": "display_data"
    }
   ],
   "source": [
    "X = df.iloc[:, :-1]\n",
    "y = df.iloc[:, -1]\n",
    "lackoc = df.loc[df.lackoc == 1]\n",
    "n_lackoc = df.loc[df.lackoc == 0]\n",
    "plt.scatter(lackoc.iloc[:, 0], lackoc.iloc[:, 1], s=10, label='Lack C')\n",
    "plt.scatter(n_lackoc.iloc[:, 0], n_lackoc.iloc[:, 1], s=10, label='C')\n",
    "plt.legend()\n",
    "plt.show()"
   ]
  },
  {
   "cell_type": "code",
   "execution_count": 12,
   "metadata": {},
   "outputs": [
    {
     "data": {
      "image/png": "[encoded data removed]",
      "text/plain": [
       "<Figure size 432x288 with 1 Axes>"
      ]
     },
     "metadata": {
      "needs_background": "light"
     },
     "output_type": "display_data"
    }
   ],
   "source": [
    "df['lackoc'].value_counts()\n",
    "sns.countplot(x='lackoc',data=df,palette='hls')\n",
    "plt.show() #Representing the Target column for binary classification"
   ]
  },
  {
   "cell_type": "code",
   "execution_count": 14,
   "metadata": {},
   "outputs": [],
   "source": [
    "df = df.drop(['ser','po2','ph','fra'],axis=1)"
   ]
  },
  {
   "cell_type": "code",
   "execution_count": 16,
   "metadata": {},
   "outputs": [],
   "source": [
    "col_mask=df.isnull().any(axis=0) #checking for Null Values\n",
    "#print(col_mask)"
   ]
  },
  {
   "cell_type": "code",
   "execution_count": 17,
   "metadata": {},
   "outputs": [],
   "source": [
    "df.rename( columns={'Unnamed: 0':'u00', 'Unnamed: 14':'u14', 'Unnamed: 16':'u16'}, inplace=True )"
   ]
  },
  {
   "cell_type": "code",
   "execution_count": 19,
   "metadata": {},
   "outputs": [
    {
     "data": {
      "text/plain": [
       "(array([], dtype=int64), array([], dtype=int64))"
      ]
     },
     "execution_count": 19,
     "metadata": {},
     "output_type": "execute_result"
    }
   ],
   "source": [
    "np.where(df.values >= np.finfo(np.float64).max)"
   ]
  },
  {
   "cell_type": "code",
   "execution_count": 20,
   "metadata": {},
   "outputs": [],
   "source": [
    "X1 = df.iloc[:, :-1]\n",
    "y1 = df.iloc[:, -1]"
   ]
  },
  {
   "cell_type": "code",
   "execution_count": 21,
   "metadata": {},
   "outputs": [],
   "source": [
    "X_train,X_test,y_train,y_test=train_test_split(X1,y1,test_size=0.3,random_state=0)"
   ]
  },
  {
   "cell_type": "code",
   "execution_count": 22,
   "metadata": {},
   "outputs": [
    {
     "name": "stderr",
     "output_type": "stream",
     "text": [
      "/home/abhishek/.local/lib/python2.7/site-packages/sklearn/linear_model/logistic.py:433: FutureWarning: Default solver will be changed to 'lbfgs' in 0.22. Specify a solver to silence this warning.\n",
      "  FutureWarning)\n"
     ]
    }
   ],
   "source": [
    "logreg = LogisticRegression()\n",
    "logreg.fit(X_train,y_train)\n",
    "y_pred=logreg.predict(X_test)\n",
    "# We need to manage the float64 error even after replacing the Null values from our dataframe"
   ]
  },
  {
   "cell_type": "code",
   "execution_count": 23,
   "metadata": {},
   "outputs": [
    {
     "data": {
      "text/plain": [
       "array([[57,  0],\n",
       "       [ 3,  0]])"
      ]
     },
     "execution_count": 23,
     "metadata": {},
     "output_type": "execute_result"
    }
   ],
   "source": [
    "cnf_matrix = confusion_matrix(y_test, y_pred)\n",
    "cnf_matrix"
   ]
  },
  {
   "cell_type": "code",
   "execution_count": 24,
   "metadata": {},
   "outputs": [
    {
     "data": {
      "text/plain": [
       "Text(0.5,257.44,'Predicted label')"
      ]
     },
     "execution_count": 24,
     "metadata": {},
     "output_type": "execute_result"
    },
    {
     "data": {
      "image/png": "[encoded data removed]",
      "text/plain": [
       "<Figure size 432x288 with 2 Axes>"
      ]
     },
     "metadata": {
      "needs_background": "light"
     },
     "output_type": "display_data"
    }
   ],
   "source": [
    "class_names=[0,1] # name  of classes\n",
    "fig, ax = plt.subplots()\n",
    "tick_marks = np.arange(len(class_names))\n",
    "plt.xticks(tick_marks, class_names)\n",
    "plt.yticks(tick_marks, class_names)\n",
    "\n",
    "# create heatmap\n",
    "sns.heatmap(pd.DataFrame(cnf_matrix), annot=True, cmap=\"YlGnBu\" ,fmt='g')\n",
    "ax.xaxis.set_label_position(\"top\")\n",
    "plt.tight_layout()  \n",
    "plt.title('Confusion matrix', y=1.1)\n",
    "plt.ylabel('Actual label')\n",
    "plt.xlabel('Predicted label')"
   ]
  },
  {
   "cell_type": "code",
   "execution_count": 25,
   "metadata": {},
   "outputs": [
    {
     "data": {
      "text/plain": [
       "Index([u'u00', u'sta', u'age', u'sex', u'race', u'can', u'crn', u'inf', u'cpr',\n",
       "       u'sys', u'hra', u'pre', u'typ', u'u14', u'u16', u'pco', u'bic', u'cre',\n",
       "       u'lackoc'],\n",
       "      dtype='object')"
      ]
     },
     "execution_count": 25,
     "metadata": {},
     "output_type": "execute_result"
    }
   ],
   "source": [
    "df.columns"
   ]
  },
  {
   "cell_type": "code",
   "execution_count": 32,
   "metadata": {},
   "outputs": [],
   "source": [
    "formula = 'lackoc ~ sta+age+sex+race+can+crn+cpr+sys+hra+pre+typ+pco+bic'\n",
    "#PatsyError: numbers besides '0' and '1' are only allowed with **"
   ]
  },
  {
   "cell_type": "code",
   "execution_count": 31,
   "metadata": {},
   "outputs": [
    {
     "name": "stdout",
     "output_type": "stream",
     "text": [
      "                 Generalized Linear Model Regression Results                  \n",
      "==============================================================================\n",
      "Dep. Variable:                 lackoc   No. Observations:                  200\n",
      "Model:                            GLM   Df Residuals:                      186\n",
      "Model Family:                Binomial   Df Model:                           13\n",
      "Link Function:                  logit   Scale:                          1.0000\n",
      "Method:                          IRLS   Log-Likelihood:                -34.019\n",
      "Date:                Mon, 22 Apr 2019   Deviance:                       68.037\n",
      "Time:                        00:08:17   Pearson chi2:                     81.8\n",
      "No. Iterations:                    24   Covariance Type:             nonrobust\n",
      "==============================================================================\n",
      "                 coef    std err          z      P>|z|      [0.025      0.975]\n",
      "------------------------------------------------------------------------------\n",
      "Intercept     -0.0497      2.557     -0.019      0.984      -5.061       4.962\n",
      "sta            0.2576      0.854      0.302      0.763      -1.417       1.932\n",
      "age            0.0034      0.022      0.155      0.877      -0.040       0.047\n",
      "sex            0.1326      0.684      0.194      0.846      -1.207       1.472\n",
      "race          -0.1444      0.992     -0.146      0.884      -2.089       1.800\n",
      "can          -23.4266   1.92e+04     -0.001      0.999   -3.77e+04    3.76e+04\n",
      "crn          -22.1678    3.8e+04     -0.001      1.000   -7.45e+04    7.44e+04\n",
      "cpr            0.5601      0.720      0.778      0.436      -0.850       1.970\n",
      "sys           -0.8769      1.169     -0.750      0.453      -3.167       1.413\n",
      "hra           -0.0161      0.011     -1.502      0.133      -0.037       0.005\n",
      "pre           -0.0029      0.013     -0.227      0.820      -0.028       0.022\n",
      "typ           -1.2643      1.341     -0.943      0.346      -3.893       1.365\n",
      "pco            0.4174      0.904      0.462      0.644      -1.354       2.189\n",
      "bic            1.8233      0.830      2.198      0.028       0.197       3.449\n",
      "==============================================================================\n"
     ]
    }
   ],
   "source": [
    "model = smf.glm(formula = formula, data=df, family=sm.families.Binomial())\n",
    "result = model.fit()\n",
    "print(result.summary())\n",
    "# The glm() function fits generalized linear models, a class of models that includes logistic regression.\n",
    "# We must pass in the argument family=sm.families.Binomial() in order to tell python to run a logistic regression rather than some other type of generalized linear model."
   ]
  },
  {
   "cell_type": "code",
   "execution_count": null,
   "metadata": {},
   "outputs": [],
   "source": []
  }
 ],
 "metadata": {
  "kernelspec": {
   "display_name": "Python 3",
   "language": "python",
   "name": "python3"
  },
  "language_info": {
   "codemirror_mode": {
    "name": "ipython",
    "version": 2
   },
   "file_extension": ".py",
   "mimetype": "text/x-python",
   "name": "python",
   "nbconvert_exporter": "python",
   "pygments_lexer": "ipython2",
   "version": "2.7.15"
  }
 },
 "nbformat": 4,
 "nbformat_minor": 2
}
