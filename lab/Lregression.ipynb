{
 "cells": [
  {
   "cell_type": "code",
   "execution_count": 1,
   "metadata": {},
   "outputs": [],
   "source": [
    "import numpy as np\n",
    "import pandas as pd\n",
    "import math  \n",
    "from sklearn.metrics import r2_score,mean_squared_error\n",
    "from scipy import stats\n",
    "import seaborn as sns\n",
    "import statsmodels.formula.api as smf\n",
    "from sklearn.linear_model import LinearRegression \n",
    "from sklearn.model_selection import train_test_split\n",
    "import matplotlib.pyplot as plt\n",
    "from collections import Counter"
   ]
  },
  {
   "cell_type": "code",
   "execution_count": 2,
   "metadata": {},
   "outputs": [],
   "source": [
    "df = pd.read_csv('drug2.csv')\n",
    "df1 = df.copy(deep=True).drop('sex',axis=1)\n",
    "df2 = df.copy(deep=True)\n",
    "df_train,df_test = train_test_split(df1, test_size=0.2)\n",
    "df2_train,df2_test = train_test_split(df2, test_size=0.2)"
   ]
  },
  {
   "cell_type": "code",
   "execution_count": 3,
   "metadata": {},
   "outputs": [],
   "source": [
    "dose_train = df_train['dose']\n",
    "resp_train = df_train['response']\n",
    "dose_test = df_test['dose']\n",
    "resp_test = df_test['response']\n",
    "\n",
    "dose_train = np.array(dose_train)\n",
    "resp_train = np.array(resp_train)\n",
    "dose_test = np.array(dose_test)\n",
    "resp_test = np.array(resp_test)\n",
    "\n",
    "dose_train = dose_train.reshape(-1,1)\n",
    "dose_test = dose_test.reshape(-1,1)"
   ]
  },
  {
   "cell_type": "code",
   "execution_count": 4,
   "metadata": {},
   "outputs": [
    {
     "name": "stdout",
     "output_type": "stream",
     "text": [
      "('R^2 Value is :', 0.27100997031152474)\n",
      "0.27100997031152474\n",
      "7.294058400127739\n",
      "[14.97484109]\n"
     ]
    }
   ],
   "source": [
    "clf = LinearRegression(normalize=True)\n",
    "clf.fit(dose_train,resp_train)\n",
    "y_pred = clf.score(dose_test.reshape(-1,1),resp_test.reshape(-1,1)) #To calculate R Square value.\n",
    "\n",
    "y_pred1 = clf.predict(dose_test)\n",
    "r2_value = r2_score(resp_test,y_pred1)\n",
    "print ('R^2 Value is :',r2_value) # Another approach to calculate R square value.\n",
    "\n",
    "#print(y_pred1)\n",
    "print(y_pred)\n",
    "print(clf.intercept_) #Calculating Intercept\n",
    "print(clf.coef_) #Calculating Coefficient\n"
   ]
  },
  {
   "cell_type": "code",
   "execution_count": 5,
   "metadata": {},
   "outputs": [
    {
     "name": "stdout",
     "output_type": "stream",
     "text": [
      "Intercept     7.253387\n",
      "dose         15.002035\n",
      "dtype: float64\n",
      "                            OLS Regression Results                            \n",
      "==============================================================================\n",
      "Dep. Variable:               response   R-squared:                       0.264\n",
      "Model:                            OLS   Adj. R-squared:                  0.264\n",
      "Method:                 Least Squares   F-statistic:                     1146.\n",
      "Date:                Wed, 13 Feb 2019   Prob (F-statistic):          5.73e-215\n",
      "Time:                        19:38:39   Log-Likelihood:                -18241.\n",
      "No. Observations:                3200   AIC:                         3.649e+04\n",
      "Df Residuals:                    3198   BIC:                         3.650e+04\n",
      "Df Model:                           1                                         \n",
      "Covariance Type:            nonrobust                                         \n",
      "==============================================================================\n",
      "                 coef    std err          t      P>|t|      [0.025      0.975]\n",
      "------------------------------------------------------------------------------\n",
      "Intercept      7.2534      2.578      2.814      0.005       2.199      12.308\n",
      "dose          15.0020      0.443     33.852      0.000      14.133      15.871\n",
      "==============================================================================\n",
      "Omnibus:                     3975.950   Durbin-Watson:                   0.032\n",
      "Prob(Omnibus):                  0.000   Jarque-Bera (JB):              205.136\n",
      "Skew:                          -0.000   Prob(JB):                     2.85e-45\n",
      "Kurtosis:                       1.760   Cond. No.                         12.0\n",
      "==============================================================================\n",
      "\n",
      "Warnings:\n",
      "[1] Standard Errors assume that the covariance matrix of the errors is correctly specified.\n"
     ]
    }
   ],
   "source": [
    "result=smf.ols(formula=\"response ~ dose\", data=df1).fit()\n",
    "print (result.params)\n",
    "print (result.summary())"
   ]
  },
  {
   "cell_type": "code",
   "execution_count": 6,
   "metadata": {},
   "outputs": [
    {
     "name": "stdout",
     "output_type": "stream",
     "text": [
      "5003.810392994176\n"
     ]
    }
   ],
   "source": [
    "#Dealing with errors\n",
    "rmse = mean_squared_error(resp_test, y_pred1)\n",
    "print (rmse)"
   ]
  },
  {
   "cell_type": "code",
   "execution_count": 49,
   "metadata": {
    "scrolled": true
   },
   "outputs": [
    {
     "data": {
      "text/plain": [
       "<matplotlib.collections.PathCollection at 0x7f89ba2c8d90>"
      ]
     },
     "execution_count": 49,
     "metadata": {},
     "output_type": "execute_result"
    },
    {
     "data": {
      "image/png": "[encoded data removed]",
      "text/plain": [
       "<Figure size 432x288 with 1 Axes>"
      ]
     },
     "metadata": {
      "needs_background": "light"
     },
     "output_type": "display_data"
    }
   ],
   "source": [
    "#sns.pairplot(df1, x_vars=['dose'], y_vars='response', size=7, aspect=0.7)\n",
    "plt.scatter(dose_train,resp_train)\n",
    "plt.scatter(dose_test,y_pred1)"
   ]
  },
  {
   "cell_type": "code",
   "execution_count": 23,
   "metadata": {},
   "outputs": [],
   "source": [
    "sub = np.subtract(resp_test,y_pred1)\n"
   ]
  },
  {
   "cell_type": "code",
   "execution_count": 123,
   "metadata": {},
   "outputs": [
    {
     "name": "stdout",
     "output_type": "stream",
     "text": [
      "[[   7.96        239.18        234.22       ...   10.63\n",
      "    19.71          5.44      ]\n",
      " [ 118.79642634   97.95000355   75.61455056 ...  145.59896993\n",
      "   215.58338931  160.48927193]\n",
      " [-110.83642634  141.22999645  158.60544944 ... -134.96896993\n",
      "  -195.87338931 -155.04927193]]\n"
     ]
    }
   ],
   "source": [
    "data = np.array([resp_test,y_pred1,np.subtract(resp_test,y_pred1)])\n",
    "print(data)"
   ]
  },
  {
   "cell_type": "code",
   "execution_count": 86,
   "metadata": {},
   "outputs": [],
   "source": [
    "dataset = pd.DataFrame({'resp_test':data[0,:],'y_pred1':data[1,:],'Error':data[2,:]})\n",
    "#print(dataset['Error'])\n",
    "dataset['stan_error']=dataset['Error']\n",
    "dataset['stan_error']=((dataset['stan_error']-dataset['stan_error'].mean())/dataset['stan_error'].std())"
   ]
  },
  {
   "cell_type": "code",
   "execution_count": 85,
   "metadata": {},
   "outputs": [
    {
     "name": "stderr",
     "output_type": "stream",
     "text": [
      "/home/abhishek/anaconda2/lib/python2.7/site-packages/ipykernel_launcher.py:3: RuntimeWarning: invalid value encountered in sqrt\n",
      "  This is separate from the ipykernel package so we can avoid doing imports until\n"
     ]
    },
    {
     "data": {
      "text/plain": [
       "<matplotlib.collections.PathCollection at 0x7f89ba008310>"
      ]
     },
     "execution_count": 85,
     "metadata": {},
     "output_type": "execute_result"
    },
    {
     "data": {
      "image/png": "[encoded data removed]",
      "text/plain": [
       "<Figure size 432x288 with 1 Axes>"
      ]
     },
     "metadata": {
      "needs_background": "light"
     },
     "output_type": "display_data"
    }
   ],
   "source": [
    "#sns.pairplot(dataset, x_vars=['y_pred1'], y_vars='Error', size=7, aspect=0.7)\n",
    "#plt.scatter(dataset['y_pred1'],dataset['Error'])\n",
    "plt.scatter(dataset['y_pred1'],np.sqrt(dataset['stan_error'])) #Plotting square root of standardized error vs y_pred1.\n",
    "plt.scatter(resp_test,y_pred1)"
   ]
  },
  {
   "cell_type": "code",
   "execution_count": 63,
   "metadata": {},
   "outputs": [
    {
     "name": "stderr",
     "output_type": "stream",
     "text": [
      "/home/abhishek/anaconda2/lib/python2.7/site-packages/matplotlib/axes/_axes.py:6571: UserWarning: The 'normed' kwarg is deprecated, and has been replaced by the 'density' kwarg.\n",
      "  warnings.warn(\"The 'normed' kwarg is deprecated, and has been \"\n"
     ]
    },
    {
     "data": {
      "image/png": "[encoded data removed]",
      "text/plain": [
       "<Figure size 432x288 with 1 Axes>"
      ]
     },
     "metadata": {
      "needs_background": "light"
     },
     "output_type": "display_data"
    }
   ],
   "source": [
    "plt.hist(dataset['Error'], normed=False, bins=100)\n",
    "plt.ylabel('Error');"
   ]
  },
  {
   "cell_type": "code",
   "execution_count": 62,
   "metadata": {},
   "outputs": [],
   "source": [
    "#recounted = Counter(dataset['Error'])\n",
    "#print (recounted)"
   ]
  },
  {
   "cell_type": "code",
   "execution_count": 64,
   "metadata": {},
   "outputs": [
    {
     "name": "stderr",
     "output_type": "stream",
     "text": [
      "/home/abhishek/.local/lib/python2.7/site-packages/seaborn/axisgrid.py:2065: UserWarning: The `size` parameter has been renamed to `height`; pleaes update your code.\n",
      "  warnings.warn(msg, UserWarning)\n"
     ]
    },
    {
     "data": {
      "text/plain": [
       "<seaborn.axisgrid.PairGrid at 0x7f89b9d93ed0>"
      ]
     },
     "execution_count": 64,
     "metadata": {},
     "output_type": "execute_result"
    },
    {
     "data": {
      "image/png": "[encoded data removed]",
      "text/plain": [
       "<Figure size 352.8x504 with 1 Axes>"
      ]
     },
     "metadata": {
      "needs_background": "light"
     },
     "output_type": "display_data"
    }
   ],
   "source": [
    "sns.pairplot(dataset, x_vars=['y_pred1'], y_vars='resp_test', size=7, aspect=0.7) #Plot for Predicted vs Real values."
   ]
  },
  {
   "cell_type": "code",
   "execution_count": 3,
   "metadata": {},
   "outputs": [],
   "source": [
    "dose_train = df_train['dose']\n",
    "sex_train = df2_train['sex']\n",
    "resp_train = df_train['response']\n",
    "dose_test = df_test['dose']\n",
    "sex_test = df2_test['sex']\n",
    "resp_test = df_test['response']\n",
    "\n",
    "dose_train = np.array(dose_train)\n",
    "sex_train = np.array(sex_train)\n",
    "resp_train = np.array(resp_train)\n",
    "dose_test = np.array(dose_test)\n",
    "sex_test = np.array(sex_test)\n",
    "resp_test = np.array(resp_test)\n",
    "\n",
    "dose_train = dose_train.reshape(-1,1)\n",
    "dose_test = dose_test.reshape(-1,1)\n",
    "sex_train = sex_train.reshape(-1,1)\n",
    "sex_test = sex_test.reshape(-1,1)"
   ]
  },
  {
   "cell_type": "code",
   "execution_count": 3,
   "metadata": {},
   "outputs": [
    {
     "name": "stdout",
     "output_type": "stream",
     "text": [
      "('R^2 Value is :', 0.8307853600584987)\n",
      "0.8281840017393426\n",
      "-55.36981780009188\n",
      "[ 15.01110036 125.78834016]\n"
     ]
    }
   ],
   "source": [
    "clf2 = LinearRegression(normalize=True)\n",
    "X = df2_train[['dose','sex']]\n",
    "y = df2_train['response']\n",
    "clf2.fit(X,y)\n",
    "y_pred = clf2.score(X,y) #To calculate R Square value.\n",
    "\n",
    "y_pred2 = clf2.predict(df2_test[['dose','sex']])\n",
    "r2_value = r2_score(df2_test['response'],y_pred2)\n",
    "print ('R^2 Value is :',r2_value) # Another approach to calculate R square value.\n",
    "\n",
    "#print(y_pred1)\n",
    "print(y_pred)\n",
    "print(clf2.intercept_) #Calculating Intercept\n",
    "print(clf2.coef_) #Calculating Coefficient\n"
   ]
  },
  {
   "cell_type": "code",
   "execution_count": 4,
   "metadata": {},
   "outputs": [
    {
     "name": "stdout",
     "output_type": "stream",
     "text": [
      "Intercept    -56.118885\n",
      "dose          15.002035\n",
      "sex          126.744544\n",
      "dtype: float64\n",
      "                            OLS Regression Results                            \n",
      "==============================================================================\n",
      "Dep. Variable:               response   R-squared:                       0.829\n",
      "Model:                            OLS   Adj. R-squared:                  0.829\n",
      "Method:                 Least Squares   F-statistic:                     7736.\n",
      "Date:                Fri, 15 Feb 2019   Prob (F-statistic):               0.00\n",
      "Time:                        12:12:58   Log-Likelihood:                -15908.\n",
      "No. Observations:                3200   AIC:                         3.182e+04\n",
      "Df Residuals:                    3197   BIC:                         3.184e+04\n",
      "Df Model:                           2                                         \n",
      "Covariance Type:            nonrobust                                         \n",
      "==============================================================================\n",
      "                 coef    std err          t      P>|t|      [0.025      0.975]\n",
      "------------------------------------------------------------------------------\n",
      "Intercept    -56.1189      1.388    -40.427      0.000     -58.841     -53.397\n",
      "dose          15.0020      0.214     70.179      0.000      14.583      15.421\n",
      "sex          126.7445      1.234    102.699      0.000     124.325     129.164\n",
      "==============================================================================\n",
      "Omnibus:                     2181.231   Durbin-Watson:                   0.010\n",
      "Prob(Omnibus):                  0.000   Jarque-Bera (JB):              184.436\n",
      "Skew:                          -0.003   Prob(JB):                     8.92e-41\n",
      "Kurtosis:                       1.824   Cond. No.                         15.2\n",
      "==============================================================================\n",
      "\n",
      "Warnings:\n",
      "[1] Standard Errors assume that the covariance matrix of the errors is correctly specified.\n"
     ]
    }
   ],
   "source": [
    "result2=smf.ols(formula=\"response ~ dose+sex\", data=df2).fit()\n",
    "print (result2.params)\n",
    "print (result2.summary())"
   ]
  },
  {
   "cell_type": "code",
   "execution_count": 5,
   "metadata": {},
   "outputs": [
    {
     "data": {
      "image/png": "[encoded data removed]",
      "text/plain": [
       "<Figure size 432x288 with 1 Axes>"
      ]
     },
     "metadata": {
      "needs_background": "light"
     },
     "output_type": "display_data"
    }
   ],
   "source": [
    "plt.scatter(df2_train['sex']+df2_train['dose'],df2_train['response'])\n",
    "plt.scatter(df2_test['sex']+df2_test['dose'], y_pred2) #Drawing Hyperplane for our new predictor model.\n",
    "#plt.scatter(df2_test['dose'], y_pred2)\n",
    "plt.show()"
   ]
  },
  {
   "cell_type": "code",
   "execution_count": 6,
   "metadata": {},
   "outputs": [],
   "source": [
    "data2 = np.array([df2_test['response'],y_pred2,np.subtract(df2_test['response'],y_pred2)])"
   ]
  },
  {
   "cell_type": "code",
   "execution_count": 15,
   "metadata": {},
   "outputs": [
    {
     "name": "stdout",
     "output_type": "stream",
     "text": [
      "0    26.523775\n",
      "dtype: float64\n"
     ]
    }
   ],
   "source": [
    "dataset2 = pd.DataFrame({'resp_test':data2[0,:],'y_pred2':data2[1,:],'Error2':data2[2,:]})\n",
    "print (dataset2['Error2'])"
   ]
  },
  {
   "cell_type": "code",
   "execution_count": 19,
   "metadata": {},
   "outputs": [
    {
     "name": "stderr",
     "output_type": "stream",
     "text": [
      "/home/abhishek/anaconda2/lib/python2.7/site-packages/matplotlib/axes/_axes.py:6571: UserWarning: The 'normed' kwarg is deprecated, and has been replaced by the 'density' kwarg.\n",
      "  warnings.warn(\"The 'normed' kwarg is deprecated, and has been \"\n"
     ]
    },
    {
     "data": {
      "text/plain": [
       "Text(0.5,0,'Range of error')"
      ]
     },
     "execution_count": 19,
     "metadata": {},
     "output_type": "execute_result"
    },
    {
     "data": {
      "image/png": "[encoded data removed]",
      "text/plain": [
       "<Figure size 432x288 with 1 Axes>"
      ]
     },
     "metadata": {
      "needs_background": "light"
     },
     "output_type": "display_data"
    }
   ],
   "source": [
    "#plt.hist(dataset2['Error2'], normed=True, bins=50)\n",
    "plt.hist(np.asarray(dataset2['Error2'], dtype='float'), bins=100, normed=True) #plot of frequency of errors vs range of errors.\n",
    "plt.ylabel('Frequency of Error2');\n",
    "plt.xlabel('Range of error') #THese are the errors divided into bins of approx. equal sizes."
   ]
  },
  {
   "cell_type": "code",
   "execution_count": null,
   "metadata": {},
   "outputs": [],
   "source": []
  }
 ],
 "metadata": {
  "kernelspec": {
   "display_name": "Python 3",
   "language": "python",
   "name": "python3"
  },
  "language_info": {
   "codemirror_mode": {
    "name": "ipython",
    "version": 2
   },
   "file_extension": ".py",
   "mimetype": "text/x-python",
   "name": "python",
   "nbconvert_exporter": "python",
   "pygments_lexer": "ipython2",
   "version": "2.7.15"
  }
 },
 "nbformat": 4,
 "nbformat_minor": 2
}
